{
 "cells": [
  {
   "cell_type": "markdown",
   "metadata": {
    "slideshow": {
     "slide_type": "slide"
    }
   },
   "source": [
    "![sql](img/sql-logo.jpg)\n",
    "\n",
    "# A beginner's guide to databases, SQL, & using them with `pandas`"
   ]
  },
  {
   "cell_type": "markdown",
   "metadata": {
    "slideshow": {
     "slide_type": "slide"
    }
   },
   "source": [
    "**Scenario:** You are a data analyst for the Homeland Security, trying to create reports on the active airports world wide. The data you need to access is in a SQL database. YOu need to be able to query for the data in a database!"
   ]
  },
  {
   "cell_type": "markdown",
   "metadata": {
    "slideshow": {
     "slide_type": "slide"
    }
   },
   "source": [
    "## Learning goals:\n",
    "- Goal 1: Summarize the use case for sql in the data science skill set\n",
    "- Goal 2: Define key sql terminology\n",
    "- Goal 3: Get information about DB schema and table structure\n",
    "- Goal 4: Use basic SQL commands:\n",
    "    - Construct SQL queries\n",
    "    - Use JOIN to merge tables along logical columns\n",
    "    - Grouping Data with SQL\n",
    "- Goal 5: Query data from pandas dataframes using SQL\n",
    "- Goal 6: Convert SQL to pandas"
   ]
  },
  {
   "cell_type": "markdown",
   "metadata": {
    "slideshow": {
     "slide_type": "slide"
    }
   },
   "source": [
    "## Goal 1: Summarize\n",
    "\n",
    "[Netflix has a great article](https://medium.com/netflix-techblog/notebook-innovation-591ee3221233) describing three different data roles at their company, their different needs, and their toolsets.\n",
    "\n",
    "![netflix](img/netflix-data-roles.jpeg)\n",
    "\n",
    "Examining that graphic, SQL shows up as one of the tools of the _Data Engineer_ "
   ]
  },
  {
   "cell_type": "markdown",
   "metadata": {
    "slideshow": {
     "slide_type": "slide"
    }
   },
   "source": [
    "Data Engineers provide the essential data architecture services that make data science possible.\n",
    "\n",
    "![hierarchy](img/ai-hierachy.png)\n",
    "\n",
    "[Source: Monica Rogati’s fantastic Medium post “The AI Hierarchy of Needs”\n",
    "](https://hackernoon.com/the-ai-hierarchy-of-needs-18f111fcc007)"
   ]
  },
  {
   "cell_type": "markdown",
   "metadata": {
    "slideshow": {
     "slide_type": "slide"
    }
   },
   "source": [
    "![etl](img/etl.png)\n",
    "\n",
    "[img source: Jeff Hammerbacher’s slide from UC Berkeley CS 194 course ](https://bcourses.berkeley.edu/courses/1377158/pages/cs-194-16-introduction-to-data-science-fall-2015)"
   ]
  },
  {
   "cell_type": "markdown",
   "metadata": {
    "slideshow": {
     "slide_type": "slide"
    }
   },
   "source": [
    "### What is a Relational Database? \n",
    "\n",
    "![rdb](img/relational-dbms-model.png)\n",
    "[reference for image ](https://www.studytonight.com/dbms/database-model.php)"
   ]
  },
  {
   "cell_type": "markdown",
   "metadata": {
    "slideshow": {
     "slide_type": "slide"
    }
   },
   "source": [
    "### POPULAR RDBMS\n",
    "\n",
    "- SQLite\n",
    "- MySQL\n",
    "- PostgreSql\n",
    "- Oracle DB\n",
    "- SQL Server"
   ]
  },
  {
   "cell_type": "markdown",
   "metadata": {
    "slideshow": {
     "slide_type": "slide"
    }
   },
   "source": [
    "***\n",
    "## Goal 2: Database terminology\n",
    "\n",
    "### Relational Database Schema\n",
    "\n",
    "![schema](img/MySQL_Schema_Music_Example.png)\n",
    "\n",
    "[source of image](https://database.guide/what-is-a-database-schema/)"
   ]
  },
  {
   "cell_type": "markdown",
   "metadata": {
    "slideshow": {
     "slide_type": "slide"
    }
   },
   "source": [
    "### Table columns view\n",
    "<img src=\"img/columns.png\" width=650>"
   ]
  },
  {
   "cell_type": "markdown",
   "metadata": {
    "slideshow": {
     "slide_type": "slide"
    }
   },
   "source": [
    "### Terminology\n",
    "\n",
    "- Database\n",
    "- Schema\n",
    "- Queries\n",
    "- Tables\n",
    "- Views *(like a filtered table in pandas. Not a copy but just the same table with a filter)*\n",
    "- Primary Keys *(what defines a record in a row. Unique but can be combination of columns)*\n",
    "- Foreign Keys *(relates the table to (a) different table(s)*\n",
    "- Indexes *(just like the index of a book - for easy sorting)*\n",
    "- Functions & User Defined Functions (UDFs)"
   ]
  },
  {
   "cell_type": "markdown",
   "metadata": {
    "slideshow": {
     "slide_type": "slide"
    }
   },
   "source": [
    "***\n",
    "### SQLite\n",
    "\n",
    "<img src=\"img/SQLite-Python.jpg\" width=650>\n",
    "\n",
    "\"SQLite is a C library that provides a lightweight disk-based database that doesn’t require a separate server process and allows accessing the database using a nonstandard variant of the SQL query language. Some applications can use SQLite for internal data storage. It’s also possible to prototype an application using SQLite and then port the code to a larger database such as PostgreSQL or Oracle.\" - [sqlite documentation](https://docs.python.org/2/library/sqlite3.html)\n",
    "\n"
   ]
  },
  {
   "cell_type": "markdown",
   "metadata": {
    "slideshow": {
     "slide_type": "slide"
    }
   },
   "source": [
    "## But what about connecting to database servers?\n",
    "\n",
    "To connect to other database types there are many different libraries:\n",
    "- Oracle: [cx_Oracle](https://oracle.github.io/python-cx_Oracle/)\n",
    "- MySQL: [MySQL-python](https://github.com/farcepest/MySQLdb1)\n",
    "- PostgreSQL: [Psycopg2](http://initd.org/psycopg/docs/)\n",
    "- Microsoft SQL Server: [pymssql](http://www.pymssql.org/en/stable/)\n",
    "\n",
    "These all implement [PEP 249: DB API v2](https://www.python.org/dev/peps/pep-0249/)"
   ]
  },
  {
   "cell_type": "markdown",
   "metadata": {
    "slideshow": {
     "slide_type": "slide"
    }
   },
   "source": [
    "***\n",
    "## Goal 3: Get going with sqlite!"
   ]
  },
  {
   "cell_type": "code",
   "execution_count": 3,
   "metadata": {
    "slideshow": {
     "slide_type": "fragment"
    }
   },
   "outputs": [],
   "source": [
    "import sqlite3"
   ]
  },
  {
   "cell_type": "markdown",
   "metadata": {
    "slideshow": {
     "slide_type": "slide"
    }
   },
   "source": [
    "#### Load a DB object with `connect` and `cursor`"
   ]
  },
  {
   "cell_type": "code",
   "execution_count": 34,
   "metadata": {
    "slideshow": {
     "slide_type": "fragment"
    }
   },
   "outputs": [],
   "source": [
    "con = sqlite3.connect('flights.db')\n",
    "cursor = con.cursor()"
   ]
  },
  {
   "cell_type": "markdown",
   "metadata": {
    "slideshow": {
     "slide_type": "slide"
    }
   },
   "source": [
    "#### Use sqlite_master to find all the tables in the schema\n",
    "Get the schema of a database from a db in sqlite"
   ]
  },
  {
   "cell_type": "code",
   "execution_count": 7,
   "metadata": {},
   "outputs": [
    {
     "name": "stdout",
     "output_type": "stream",
     "text": [
      "[('airports',), ('airlines',), ('routes',)]\n"
     ]
    }
   ],
   "source": [
    "cursor.execute(\"SELECT name FROM sqlite_master WHERE type='table';\")\n",
    "print(cursor.fetchall())"
   ]
  },
  {
   "cell_type": "code",
   "execution_count": 4,
   "metadata": {},
   "outputs": [
    {
     "data": {
      "text/plain": [
       "(('name', None, None, None, None, None, None),)"
      ]
     },
     "execution_count": 4,
     "metadata": {},
     "output_type": "execute_result"
    }
   ],
   "source": [
    "cursor.description"
   ]
  },
  {
   "cell_type": "code",
   "execution_count": 5,
   "metadata": {},
   "outputs": [
    {
     "name": "stdout",
     "output_type": "stream",
     "text": [
      "[('airports', 'table'), ('ix_airports_index', 'index'), ('airlines', 'table'), ('ix_airlines_index', 'index'), ('routes', 'table'), ('ix_routes_index', 'index')]\n"
     ]
    }
   ],
   "source": [
    "cursor.execute(\"SELECT name, type FROM sqlite_master;\")\n",
    "print(cursor.fetchall())"
   ]
  },
  {
   "cell_type": "code",
   "execution_count": 9,
   "metadata": {},
   "outputs": [
    {
     "data": {
      "text/plain": [
       "(('type', None, None, None, None, None, None),\n",
       " ('name', None, None, None, None, None, None),\n",
       " ('tbl_name', None, None, None, None, None, None),\n",
       " ('rootpage', None, None, None, None, None, None),\n",
       " ('sql', None, None, None, None, None, None))"
      ]
     },
     "execution_count": 9,
     "metadata": {},
     "output_type": "execute_result"
    }
   ],
   "source": [
    "cursor.description"
   ]
  },
  {
   "cell_type": "code",
   "execution_count": 8,
   "metadata": {},
   "outputs": [
    {
     "name": "stdout",
     "output_type": "stream",
     "text": [
      "('table', 'airports', 'airports', 2, 'CREATE TABLE airports (\\n[index] INTEGER,\\n  [id] TEXT,\\n  [name] TEXT,\\n  [city] TEXT,\\n  [country] TEXT,\\n  [code] TEXT,\\n  [icao] TEXT,\\n  [latitude] TEXT,\\n  [longitude] TEXT,\\n  [altitude] TEXT,\\n  [offset] TEXT,\\n  [dst] TEXT,\\n  [timezone] TEXT\\n)')\n",
      "('index', 'ix_airports_index', 'airports', 3, 'CREATE INDEX ix_airports_index ON airports ([index])')\n",
      "('table', 'airlines', 'airlines', 945, 'CREATE TABLE airlines (\\n[index] INTEGER,\\n  [id] TEXT,\\n  [name] TEXT,\\n  [alias] TEXT,\\n  [iata] TEXT,\\n  [icao] TEXT,\\n  [callsign] TEXT,\\n  [country] TEXT,\\n  [active] TEXT\\n)')\n",
      "('index', 'ix_airlines_index', 'airlines', 946, 'CREATE INDEX ix_airlines_index ON airlines ([index])')\n",
      "('table', 'routes', 'routes', 1393, 'CREATE TABLE routes (\\n[index] INTEGER,\\n  [airline] TEXT,\\n  [airline_id] TEXT,\\n  [source] TEXT,\\n  [source_id] TEXT,\\n  [dest] TEXT,\\n  [dest_id] TEXT,\\n  [codeshare] TEXT,\\n  [stops] TEXT,\\n  [equipment] TEXT\\n)')\n",
      "('index', 'ix_routes_index', 'routes', 1394, 'CREATE INDEX ix_routes_index ON routes ([index])')\n"
     ]
    }
   ],
   "source": [
    "cursor.execute(\"SELECT * FROM sqlite_master;\")\n",
    "results = cursor.fetchall()\n",
    "for res in results:\n",
    "    print(res)"
   ]
  },
  {
   "cell_type": "markdown",
   "metadata": {
    "slideshow": {
     "slide_type": "slide"
    }
   },
   "source": [
    "#### Get information about one table\n",
    "\n",
    "**A note about** `execute`<br>\n",
    "Each time you use it, you reset the value of cursor"
   ]
  },
  {
   "cell_type": "code",
   "execution_count": 13,
   "metadata": {
    "scrolled": true
   },
   "outputs": [
    {
     "data": {
      "text/plain": [
       "(0,\n",
       " '1',\n",
       " 'Goroka',\n",
       " 'Goroka',\n",
       " 'Papua New Guinea',\n",
       " 'GKA',\n",
       " 'AYGA',\n",
       " '-6.081689',\n",
       " '145.391881',\n",
       " '5282',\n",
       " '10',\n",
       " 'U',\n",
       " 'Pacific/Port_Moresby')"
      ]
     },
     "execution_count": 13,
     "metadata": {},
     "output_type": "execute_result"
    }
   ],
   "source": [
    "cursor.execute(\"SELECT * FROM airports as a\").fetchone()"
   ]
  },
  {
   "cell_type": "code",
   "execution_count": 27,
   "metadata": {},
   "outputs": [
    {
     "data": {
      "text/plain": [
       "[(8107,)]"
      ]
     },
     "execution_count": 27,
     "metadata": {},
     "output_type": "execute_result"
    }
   ],
   "source": [
    "cursor.execute(\"SELECT COUNT(*) as airport_count FROM airports \").fetchall()"
   ]
  },
  {
   "cell_type": "code",
   "execution_count": 28,
   "metadata": {},
   "outputs": [
    {
     "data": {
      "text/plain": [
       "(('airport_count', None, None, None, None, None, None),)"
      ]
     },
     "execution_count": 28,
     "metadata": {},
     "output_type": "execute_result"
    }
   ],
   "source": [
    "cursor.description"
   ]
  },
  {
   "cell_type": "code",
   "execution_count": 11,
   "metadata": {},
   "outputs": [
    {
     "data": {
      "text/plain": [
       "(1,\n",
       " '2',\n",
       " 'Madang',\n",
       " 'Madang',\n",
       " 'Papua New Guinea',\n",
       " 'MAG',\n",
       " 'AYMD',\n",
       " '-5.207083',\n",
       " '145.7887',\n",
       " '20',\n",
       " '10',\n",
       " 'U',\n",
       " 'Pacific/Port_Moresby')"
      ]
     },
     "execution_count": 11,
     "metadata": {},
     "output_type": "execute_result"
    }
   ],
   "source": [
    "cursor.fetchone()"
   ]
  },
  {
   "cell_type": "code",
   "execution_count": 12,
   "metadata": {},
   "outputs": [
    {
     "data": {
      "text/plain": [
       "[(2,\n",
       "  '3',\n",
       "  'Mount Hagen',\n",
       "  'Mount Hagen',\n",
       "  'Papua New Guinea',\n",
       "  'HGU',\n",
       "  'AYMH',\n",
       "  '-5.826789',\n",
       "  '144.295861',\n",
       "  '5388',\n",
       "  '10',\n",
       "  'U',\n",
       "  'Pacific/Port_Moresby'),\n",
       " (3,\n",
       "  '4',\n",
       "  'Nadzab',\n",
       "  'Nadzab',\n",
       "  'Papua New Guinea',\n",
       "  'LAE',\n",
       "  'AYNZ',\n",
       "  '-6.569828',\n",
       "  '146.726242',\n",
       "  '239',\n",
       "  '10',\n",
       "  'U',\n",
       "  'Pacific/Port_Moresby'),\n",
       " (4,\n",
       "  '5',\n",
       "  'Port Moresby Jacksons Intl',\n",
       "  'Port Moresby',\n",
       "  'Papua New Guinea',\n",
       "  'POM',\n",
       "  'AYPY',\n",
       "  '-9.443383',\n",
       "  '147.22005',\n",
       "  '146',\n",
       "  '10',\n",
       "  'U',\n",
       "  'Pacific/Port_Moresby'),\n",
       " (5,\n",
       "  '6',\n",
       "  'Wewak Intl',\n",
       "  'Wewak',\n",
       "  'Papua New Guinea',\n",
       "  'WWK',\n",
       "  'AYWK',\n",
       "  '-3.583828',\n",
       "  '143.669186',\n",
       "  '19',\n",
       "  '10',\n",
       "  'U',\n",
       "  'Pacific/Port_Moresby')]"
      ]
     },
     "execution_count": 12,
     "metadata": {},
     "output_type": "execute_result"
    }
   ],
   "source": [
    "cursor.fetchmany(4)"
   ]
  },
  {
   "cell_type": "markdown",
   "metadata": {
    "slideshow": {
     "slide_type": "slide"
    }
   },
   "source": [
    "#### Use description"
   ]
  },
  {
   "cell_type": "code",
   "execution_count": 14,
   "metadata": {
    "slideshow": {
     "slide_type": "fragment"
    }
   },
   "outputs": [
    {
     "data": {
      "text/plain": [
       "(('index', None, None, None, None, None, None),\n",
       " ('id', None, None, None, None, None, None),\n",
       " ('name', None, None, None, None, None, None),\n",
       " ('city', None, None, None, None, None, None),\n",
       " ('country', None, None, None, None, None, None),\n",
       " ('code', None, None, None, None, None, None),\n",
       " ('icao', None, None, None, None, None, None),\n",
       " ('latitude', None, None, None, None, None, None),\n",
       " ('longitude', None, None, None, None, None, None),\n",
       " ('altitude', None, None, None, None, None, None),\n",
       " ('offset', None, None, None, None, None, None),\n",
       " ('dst', None, None, None, None, None, None),\n",
       " ('timezone', None, None, None, None, None, None))"
      ]
     },
     "execution_count": 14,
     "metadata": {},
     "output_type": "execute_result"
    }
   ],
   "source": [
    "cursor.description"
   ]
  },
  {
   "cell_type": "markdown",
   "metadata": {
    "slideshow": {
     "slide_type": "slide"
    }
   },
   "source": [
    "#### Or use `Pragma`\n",
    "`Pragma` tool [link here](https://www.sqlite.org/pragma.html#pragma_table_info)\n",
    "\n",
    "**output**<br>\n",
    "`(column id, column name, data type, whether or not the column can be NULL, and the default value for the column)`"
   ]
  },
  {
   "cell_type": "code",
   "execution_count": 19,
   "metadata": {
    "slideshow": {
     "slide_type": "slide"
    }
   },
   "outputs": [
    {
     "name": "stdout",
     "output_type": "stream",
     "text": [
      "(0, 'index', 'INTEGER', 0, None, 0)\n",
      "(1, 'id', 'TEXT', 0, None, 0)\n",
      "(2, 'name', 'TEXT', 0, None, 0)\n",
      "(3, 'city', 'TEXT', 0, None, 0)\n",
      "(4, 'country', 'TEXT', 0, None, 0)\n",
      "(5, 'code', 'TEXT', 0, None, 0)\n",
      "(6, 'icao', 'TEXT', 0, None, 0)\n",
      "(7, 'latitude', 'TEXT', 0, None, 0)\n",
      "(8, 'longitude', 'TEXT', 0, None, 0)\n",
      "(9, 'altitude', 'TEXT', 0, None, 0)\n",
      "(10, 'offset', 'TEXT', 0, None, 0)\n",
      "(11, 'dst', 'TEXT', 0, None, 0)\n",
      "(12, 'timezone', 'TEXT', 0, None, 0)\n"
     ]
    }
   ],
   "source": [
    "cursor.execute(\"PRAGMA table_info(airports)\")\n",
    "info = cursor.fetchall()\n",
    "print(*info, sep = \"\\n\")  # * here is to unpack because info is a list of tuples. \n",
    "\n",
    "#use ** in a dictionary"
   ]
  },
  {
   "cell_type": "markdown",
   "metadata": {
    "slideshow": {
     "slide_type": "slide"
    }
   },
   "source": [
    "#### Making fetch happen\n",
    "\n",
    "`.fetchall()` is how you get the query results out of the object.\n",
    "\n",
    "You can also `.fetchone()` or `.fetchmany()`"
   ]
  },
  {
   "cell_type": "markdown",
   "metadata": {
    "slideshow": {
     "slide_type": "slide"
    }
   },
   "source": [
    "**Task:** Get the descriptive data for airlines and routes tables"
   ]
  },
  {
   "cell_type": "code",
   "execution_count": 20,
   "metadata": {},
   "outputs": [
    {
     "name": "stdout",
     "output_type": "stream",
     "text": [
      "(0, 'index', 'INTEGER', 0, None, 0)\n",
      "(1, 'id', 'TEXT', 0, None, 0)\n",
      "(2, 'name', 'TEXT', 0, None, 0)\n",
      "(3, 'alias', 'TEXT', 0, None, 0)\n",
      "(4, 'iata', 'TEXT', 0, None, 0)\n",
      "(5, 'icao', 'TEXT', 0, None, 0)\n",
      "(6, 'callsign', 'TEXT', 0, None, 0)\n",
      "(7, 'country', 'TEXT', 0, None, 0)\n",
      "(8, 'active', 'TEXT', 0, None, 0)\n"
     ]
    }
   ],
   "source": [
    "cursor.execute(\"PRAGMA table_info(airlines)\")\n",
    "info = cursor.fetchall()\n",
    "print(*info, sep = \"\\n\")"
   ]
  },
  {
   "cell_type": "code",
   "execution_count": 21,
   "metadata": {},
   "outputs": [
    {
     "name": "stdout",
     "output_type": "stream",
     "text": [
      "(0, 'index', 'INTEGER', 0, None, 0)\n",
      "(1, 'airline', 'TEXT', 0, None, 0)\n",
      "(2, 'airline_id', 'TEXT', 0, None, 0)\n",
      "(3, 'source', 'TEXT', 0, None, 0)\n",
      "(4, 'source_id', 'TEXT', 0, None, 0)\n",
      "(5, 'dest', 'TEXT', 0, None, 0)\n",
      "(6, 'dest_id', 'TEXT', 0, None, 0)\n",
      "(7, 'codeshare', 'TEXT', 0, None, 0)\n",
      "(8, 'stops', 'TEXT', 0, None, 0)\n",
      "(9, 'equipment', 'TEXT', 0, None, 0)\n"
     ]
    }
   ],
   "source": [
    "cursor.execute(\"PRAGMA table_info(routes)\")\n",
    "info = cursor.fetchall()\n",
    "print(*info, sep = \"\\n\")"
   ]
  },
  {
   "cell_type": "markdown",
   "metadata": {
    "slideshow": {
     "slide_type": "slide"
    }
   },
   "source": [
    "***\n",
    "## Goal 4: Use basic SQL commands \n",
    "- Construct SQL queries\n",
    "- Use JOIN to merge tables along logical columns\n",
    "- Grouping Data with SQL"
   ]
  },
  {
   "cell_type": "markdown",
   "metadata": {
    "slideshow": {
     "slide_type": "slide"
    }
   },
   "source": [
    "### Construct SQL queries"
   ]
  },
  {
   "cell_type": "markdown",
   "metadata": {
    "slideshow": {
     "slide_type": "fragment"
    }
   },
   "source": [
    "**Select**"
   ]
  },
  {
   "cell_type": "markdown",
   "metadata": {
    "slideshow": {
     "slide_type": "fragment"
    }
   },
   "source": [
    "**From**"
   ]
  },
  {
   "cell_type": "markdown",
   "metadata": {
    "slideshow": {
     "slide_type": "fragment"
    }
   },
   "source": [
    "**Where**"
   ]
  },
  {
   "cell_type": "markdown",
   "metadata": {
    "slideshow": {
     "slide_type": "fragment"
    }
   },
   "source": [
    "**Order by**"
   ]
  },
  {
   "cell_type": "markdown",
   "metadata": {
    "slideshow": {
     "slide_type": "fragment"
    }
   },
   "source": [
    "**Limit**"
   ]
  },
  {
   "cell_type": "markdown",
   "metadata": {
    "slideshow": {
     "slide_type": "slide"
    }
   },
   "source": [
    "#### Options for each:"
   ]
  },
  {
   "cell_type": "markdown",
   "metadata": {
    "slideshow": {
     "slide_type": "fragment"
    }
   },
   "source": [
    "**Select**:  `distinct`, using `as` to rename columns, single number aggregates"
   ]
  },
  {
   "cell_type": "markdown",
   "metadata": {
    "slideshow": {
     "slide_type": "fragment"
    }
   },
   "source": [
    "**From:** also uses aliasing with `as`"
   ]
  },
  {
   "cell_type": "markdown",
   "metadata": {
    "slideshow": {
     "slide_type": "fragment"
    }
   },
   "source": [
    "**Where**: equals is only one `=`, `between`, `in`, wildcards `%`, `AND`, `OR`, `NOT`\\\n",
    "*where is a boolean*"
   ]
  },
  {
   "cell_type": "markdown",
   "metadata": {
    "slideshow": {
     "slide_type": "fragment"
    }
   },
   "source": [
    "**Order by**: `asc` and `desc`\\\n",
    "*asc is default*"
   ]
  },
  {
   "cell_type": "markdown",
   "metadata": {
    "slideshow": {
     "slide_type": "fragment"
    }
   },
   "source": [
    "**Limit**:  #"
   ]
  },
  {
   "cell_type": "markdown",
   "metadata": {
    "slideshow": {
     "slide_type": "slide"
    }
   },
   "source": [
    "**Task**: \n",
    "- Select only active airlines in the UK from the airlines table\n",
    "- Select the unique list of countries with airports"
   ]
  },
  {
   "cell_type": "code",
   "execution_count": 29,
   "metadata": {},
   "outputs": [
    {
     "data": {
      "text/plain": [
       "[('Astraeus',),\n",
       " ('Air Southwest',),\n",
       " ('Aurigny Air Services',),\n",
       " ('Air Wales',),\n",
       " ('AD Aviation',)]"
      ]
     },
     "execution_count": 29,
     "metadata": {},
     "output_type": "execute_result"
    }
   ],
   "source": [
    "cursor.execute(\"\"\"\n",
    "SELECT name\n",
    "FROM airlines\n",
    "WHERE active = 'Y'\n",
    "  AND country = 'United Kingdom';\n",
    "\"\"\")\n",
    "cursor.fetchmany(5)"
   ]
  },
  {
   "cell_type": "code",
   "execution_count": 32,
   "metadata": {},
   "outputs": [
    {
     "data": {
      "text/plain": [
       "[(0, 'index', 'INTEGER', 0, None, 0),\n",
       " (1, 'id', 'TEXT', 0, None, 0),\n",
       " (2, 'name', 'TEXT', 0, None, 0),\n",
       " (3, 'city', 'TEXT', 0, None, 0),\n",
       " (4, 'country', 'TEXT', 0, None, 0),\n",
       " (5, 'code', 'TEXT', 0, None, 0),\n",
       " (6, 'icao', 'TEXT', 0, None, 0),\n",
       " (7, 'latitude', 'TEXT', 0, None, 0),\n",
       " (8, 'longitude', 'TEXT', 0, None, 0),\n",
       " (9, 'altitude', 'TEXT', 0, None, 0),\n",
       " (10, 'offset', 'TEXT', 0, None, 0),\n",
       " (11, 'dst', 'TEXT', 0, None, 0),\n",
       " (12, 'timezone', 'TEXT', 0, None, 0)]"
      ]
     },
     "execution_count": 32,
     "metadata": {},
     "output_type": "execute_result"
    }
   ],
   "source": [
    "cursor.execute(\"PRAGMA table_info(airports)\").fetchall()"
   ]
  },
  {
   "cell_type": "code",
   "execution_count": 36,
   "metadata": {
    "scrolled": true
   },
   "outputs": [
    {
     "data": {
      "text/plain": [
       "[('Zimbabwe',),\n",
       " ('Zambia',),\n",
       " ('Yemen',),\n",
       " ('Western Sahara',),\n",
       " ('West Bank',),\n",
       " ('Wallis and Futuna',),\n",
       " ('Wake Island',),\n",
       " ('Virgin Islands',),\n",
       " ('Vietnam',),\n",
       " ('Venezuela',)]"
      ]
     },
     "execution_count": 36,
     "metadata": {},
     "output_type": "execute_result"
    }
   ],
   "source": [
    "cursor.execute(\"\"\"\n",
    "SELECT DISTINCT country\n",
    "FROM airports\n",
    "ORDER BY 1 DESC\n",
    "\"\"\").fetchmany(10)"
   ]
  },
  {
   "cell_type": "code",
   "execution_count": 37,
   "metadata": {},
   "outputs": [
    {
     "data": {
      "text/plain": [
       "[('United States', 1697),\n",
       " ('Canada', 435),\n",
       " ('Germany', 321),\n",
       " ('Australia', 263),\n",
       " ('Russia', 249),\n",
       " ('France', 233),\n",
       " ('China', 219),\n",
       " ('Brazil', 213),\n",
       " ('United Kingdom', 210),\n",
       " ('India', 140)]"
      ]
     },
     "execution_count": 37,
     "metadata": {},
     "output_type": "execute_result"
    }
   ],
   "source": [
    "#List of countries sorted by number of airports in the country\n",
    "\n",
    "cursor.execute(\"\"\"\n",
    "SELECT country, count(*) as airport_count\n",
    "FROM airports\n",
    "GROUP BY 1\n",
    "ORDER BY 2 DESC\n",
    "\"\"\").fetchmany(10)"
   ]
  },
  {
   "cell_type": "markdown",
   "metadata": {
    "slideshow": {
     "slide_type": "slide"
    }
   },
   "source": [
    "### SQL Joins"
   ]
  },
  {
   "cell_type": "markdown",
   "metadata": {
    "slideshow": {
     "slide_type": "fragment"
    }
   },
   "source": [
    "SQL joins can be used to both **add** data to a table and **remove** data from a table. "
   ]
  },
  {
   "cell_type": "markdown",
   "metadata": {
    "slideshow": {
     "slide_type": "fragment"
    }
   },
   "source": [
    "<img src=\"img/venn.png\" width=550>"
   ]
  },
  {
   "cell_type": "markdown",
   "metadata": {
    "slideshow": {
     "slide_type": "slide"
    }
   },
   "source": [
    "**Task** Write a query that will join the latitude and longitude data from the airports table to the information on the routes table"
   ]
  },
  {
   "cell_type": "code",
   "execution_count": 17,
   "metadata": {
    "slideshow": {
     "slide_type": "skip"
    }
   },
   "outputs": [
    {
     "name": "stdout",
     "output_type": "stream",
     "text": [
      "(0, '2B', '410', 'AER', '2965', 'KZN', '2990', None, '0', 'CR2', '43.449928', '39.956589', '55.606186', '49.278728')\n",
      "(1, '2B', '410', 'ASF', '2966', 'KZN', '2990', None, '0', 'CR2', '46.283333', '48.006278', '55.606186', '49.278728')\n",
      "(2, '2B', '410', 'ASF', '2966', 'MRV', '2962', None, '0', 'CR2', '46.283333', '48.006278', '44.225072', '43.081889')\n",
      "(3, '2B', '410', 'CEK', '2968', 'KZN', '2990', None, '0', 'CR2', '55.305836', '61.503333', '55.606186', '49.278728')\n",
      "(4, '2B', '410', 'CEK', '2968', 'OVB', '4078', None, '0', 'CR2', '55.305836', '61.503333', '55.012622', '82.650656')\n",
      "(5, '2B', '410', 'DME', '4029', 'KZN', '2990', None, '0', 'CR2', '55.408611', '37.906111', '55.606186', '49.278728')\n",
      "(6, '2B', '410', 'DME', '4029', 'NBC', '6969', None, '0', 'CR2', '55.408611', '37.906111', '55.34', '52.06')\n",
      "(7, '2B', '410', 'DME', '4029', 'TGK', '\\\\N', None, '0', 'CR2', '55.408611', '37.906111', None, None)\n",
      "(8, '2B', '410', 'DME', '4029', 'UUA', '6160', None, '0', 'CR2', '55.408611', '37.906111', '54.64', '52.8017')\n",
      "(9, '2B', '410', 'EGO', '6156', 'KGD', '2952', None, '0', 'CR2', '50.6438', '36.5901', '54.89005', '20.592633')\n"
     ]
    }
   ],
   "source": [
    "cursor.execute(\"\"\"\n",
    "               SELECT \n",
    "                   r.*,\n",
    "                   a_or.latitude,\n",
    "                   a_or.longitude,\n",
    "                   a_dest.latitude,\n",
    "                   a_dest.longitude\n",
    "                   \n",
    "               FROM routes r\n",
    "               LEFT JOIN airports a_or ON r.source_id = a_or.id\n",
    "               LEFT JOIN airports a_dest ON r.dest_id = a_dest.id\n",
    "               limit 10;\"\"\")\n",
    "\n",
    "\n",
    "print(*cursor.fetchall(), sep='\\n')\n"
   ]
  },
  {
   "cell_type": "code",
   "execution_count": 8,
   "metadata": {},
   "outputs": [
    {
     "name": "stdout",
     "output_type": "stream",
     "text": [
      "(2886, '2965', 'Sochi', 'Sochi', 'Russia', 'AER', 'URSS', '43.449928', '39.956589', '89', '4', 'N', 'Europe/Moscow')\n",
      "(2910, '2990', 'Kazan', 'Kazan', 'Russia', 'KZN', 'UWKD', '55.606186', '49.278728', '411', '4', 'N', 'Europe/Moscow')\n"
     ]
    }
   ],
   "source": [
    "cursor.execute(\"\"\"\n",
    "               SELECT *\n",
    "               FROM airports\n",
    "               where id in ('2965','2990')\n",
    "               limit 10;\n",
    "               \"\"\")\n",
    "\n",
    "\n",
    "print(*cursor.fetchall(), sep='\\n')"
   ]
  },
  {
   "cell_type": "markdown",
   "metadata": {
    "slideshow": {
     "slide_type": "slide"
    }
   },
   "source": [
    "### Grouping statements\n",
    "\n",
    "Combines `select` and `group by` when you want aggregates by values"
   ]
  },
  {
   "cell_type": "markdown",
   "metadata": {
    "slideshow": {
     "slide_type": "fragment"
    }
   },
   "source": [
    "`select` `min(x)` ... `max()`, `sum()`, etc"
   ]
  },
  {
   "cell_type": "markdown",
   "metadata": {
    "slideshow": {
     "slide_type": "fragment"
    }
   },
   "source": [
    "`group by x`"
   ]
  },
  {
   "cell_type": "markdown",
   "metadata": {
    "slideshow": {
     "slide_type": "slide"
    }
   },
   "source": [
    "**Task**<br>\n",
    "- Which countries have the highest amount of active airlines?\n",
    "- Which countries have the highest amount of inactive airlines?\n",
    "- What about airports by timezones?"
   ]
  },
  {
   "cell_type": "code",
   "execution_count": 23,
   "metadata": {
    "slideshow": {
     "slide_type": "skip"
    }
   },
   "outputs": [
    {
     "name": "stdout",
     "output_type": "stream",
     "text": [
      "('United States', 141)\n",
      "('Russia', 72)\n",
      "('United Kingdom', 40)\n",
      "('Germany', 37)\n",
      "('Canada', 34)\n"
     ]
    }
   ],
   "source": [
    "# Which countries have the highest amount of active airlines?\n",
    "cursor.execute(\"\"\"\n",
    "SELECT country, count(*) as airline_count\n",
    "    FROM airlines\n",
    "    WHERE active = 'Y'\n",
    "    GROUP BY country\n",
    "    ORDER BY 2 DESC\n",
    "    limit 5\"\"\").fetchall\n",
    "\n",
    "print(*cursor.fetchall(), sep='\\n')"
   ]
  },
  {
   "cell_type": "code",
   "execution_count": 26,
   "metadata": {
    "slideshow": {
     "slide_type": "skip"
    }
   },
   "outputs": [
    {
     "name": "stdout",
     "output_type": "stream",
     "text": [
      "('United States', 939)\n",
      "('Mexico', 427)\n",
      "('United Kingdom', 367)\n",
      "('Canada', 284)\n",
      "('Russia', 158)\n"
     ]
    }
   ],
   "source": [
    "# Which countries have the highest amount of inactive airlines?\n",
    "cursor.execute(\"\"\"\n",
    "SELECT country, count(*) as airline_count\n",
    "    FROM airlines\n",
    "    WHERE active = 'N'\n",
    "    GROUP BY country\n",
    "    ORDER BY 2 DESC\n",
    "    limit 5\"\"\").fetchall\n",
    "\n",
    "\n",
    "print(*cursor.fetchall(), sep='\\n')"
   ]
  },
  {
   "cell_type": "code",
   "execution_count": 28,
   "metadata": {},
   "outputs": [
    {
     "data": {
      "text/plain": [
       "('Pacific/Port_Moresby', 8107)"
      ]
     },
     "execution_count": 28,
     "metadata": {},
     "output_type": "execute_result"
    }
   ],
   "source": [
    "cursor.execute(\"\"\"\n",
    "                SELECT timezone, count(*) as airport_count\n",
    "                from airports\n",
    "                \"\"\").fetchone()"
   ]
  },
  {
   "cell_type": "code",
   "execution_count": 35,
   "metadata": {
    "slideshow": {
     "slide_type": "skip"
    }
   },
   "outputs": [
    {
     "name": "stdout",
     "output_type": "stream",
     "text": [
      "('America/New_York', 628)\n",
      "('America/Chicago', 373)\n",
      "('Europe/Berlin', 319)\n",
      "('America/Anchorage', 258)\n",
      "('Europe/Paris', 232)\n"
     ]
    }
   ],
   "source": [
    "# What about airports by timezones?\n",
    "cursor.execute(\"\"\"\n",
    "SELECT timezone, count(*) as airport_count\n",
    "    FROM airports\n",
    "    GROUP BY 1\n",
    "    ORDER BY 2 DESC\n",
    "    limit 5\"\"\").fetchall\n",
    "\n",
    "\n",
    "print(*cursor.fetchall(), sep='\\n')"
   ]
  },
  {
   "cell_type": "code",
   "execution_count": 36,
   "metadata": {},
   "outputs": [],
   "source": [
    "# It's always a good idea to close our connections when we're done\n",
    "cursor.close()\n",
    "con.close()"
   ]
  },
  {
   "cell_type": "markdown",
   "metadata": {
    "slideshow": {
     "slide_type": "slide"
    }
   },
   "source": [
    "## Goal 5: Using sql within pandas to filter\n",
    "\n",
    "`.query()`\n",
    "\n",
    "[query documentation](https://pandas.pydata.org/pandas-docs/stable/reference/api/pandas.DataFrame.query.html)"
   ]
  },
  {
   "cell_type": "code",
   "execution_count": 37,
   "metadata": {
    "slideshow": {
     "slide_type": "slide"
    }
   },
   "outputs": [
    {
     "data": {
      "text/plain": [
       "Animal ID           object\n",
       "Name                object\n",
       "DateTime            object\n",
       "MonthYear           object\n",
       "Date of Birth       object\n",
       "Outcome Type        object\n",
       "Outcome Subtype     object\n",
       "Animal Type         object\n",
       "Sex upon Outcome    object\n",
       "Age upon Outcome    object\n",
       "Breed               object\n",
       "Color               object\n",
       "dtype: object"
      ]
     },
     "execution_count": 37,
     "metadata": {},
     "output_type": "execute_result"
    }
   ],
   "source": [
    "# Get data for an example\n",
    "import pandas as pd\n",
    "shelter_data=pd.read_csv('https://data.austintexas.gov/api/views/9t4d-g238/rows.csv?accessType=DOWNLOAD')\n",
    "shelter_data.dtypes"
   ]
  },
  {
   "cell_type": "code",
   "execution_count": 40,
   "metadata": {
    "slideshow": {
     "slide_type": "slide"
    }
   },
   "outputs": [
    {
     "data": {
      "text/html": [
       "<div>\n",
       "<style scoped>\n",
       "    .dataframe tbody tr th:only-of-type {\n",
       "        vertical-align: middle;\n",
       "    }\n",
       "\n",
       "    .dataframe tbody tr th {\n",
       "        vertical-align: top;\n",
       "    }\n",
       "\n",
       "    .dataframe thead th {\n",
       "        text-align: right;\n",
       "    }\n",
       "</style>\n",
       "<table border=\"1\" class=\"dataframe\">\n",
       "  <thead>\n",
       "    <tr style=\"text-align: right;\">\n",
       "      <th></th>\n",
       "      <th>Animal ID</th>\n",
       "      <th>Name</th>\n",
       "      <th>DateTime</th>\n",
       "      <th>MonthYear</th>\n",
       "      <th>Date of Birth</th>\n",
       "      <th>Outcome Type</th>\n",
       "      <th>Outcome Subtype</th>\n",
       "      <th>Animal Type</th>\n",
       "      <th>Sex upon Outcome</th>\n",
       "      <th>Age upon Outcome</th>\n",
       "      <th>Breed</th>\n",
       "      <th>Color</th>\n",
       "    </tr>\n",
       "  </thead>\n",
       "  <tbody>\n",
       "    <tr>\n",
       "      <th>6188</th>\n",
       "      <td>A783690</td>\n",
       "      <td>Spot</td>\n",
       "      <td>06/10/2019 02:26:00 PM</td>\n",
       "      <td>06/10/2019 02:26:00 PM</td>\n",
       "      <td>11/05/2000</td>\n",
       "      <td>Return to Owner</td>\n",
       "      <td>NaN</td>\n",
       "      <td>Dog</td>\n",
       "      <td>Intact Male</td>\n",
       "      <td>18 years</td>\n",
       "      <td>Jack Russell Terrier Mix</td>\n",
       "      <td>Tricolor</td>\n",
       "    </tr>\n",
       "    <tr>\n",
       "      <th>16262</th>\n",
       "      <td>A783690</td>\n",
       "      <td>Spot</td>\n",
       "      <td>11/05/2018 05:27:00 PM</td>\n",
       "      <td>11/05/2018 05:27:00 PM</td>\n",
       "      <td>11/05/2000</td>\n",
       "      <td>Return to Owner</td>\n",
       "      <td>NaN</td>\n",
       "      <td>Dog</td>\n",
       "      <td>Intact Male</td>\n",
       "      <td>18 years</td>\n",
       "      <td>Jack Russell Terrier Mix</td>\n",
       "      <td>Tricolor</td>\n",
       "    </tr>\n",
       "    <tr>\n",
       "      <th>104218</th>\n",
       "      <td>A668894</td>\n",
       "      <td>Spot</td>\n",
       "      <td>12/11/2013 03:31:00 PM</td>\n",
       "      <td>12/11/2013 03:31:00 PM</td>\n",
       "      <td>12/11/2001</td>\n",
       "      <td>Return to Owner</td>\n",
       "      <td>NaN</td>\n",
       "      <td>Dog</td>\n",
       "      <td>Neutered Male</td>\n",
       "      <td>12 years</td>\n",
       "      <td>Rat Terrier Mix</td>\n",
       "      <td>Tricolor</td>\n",
       "    </tr>\n",
       "  </tbody>\n",
       "</table>\n",
       "</div>"
      ],
      "text/plain": [
       "       Animal ID  Name                DateTime               MonthYear  \\\n",
       "6188     A783690  Spot  06/10/2019 02:26:00 PM  06/10/2019 02:26:00 PM   \n",
       "16262    A783690  Spot  11/05/2018 05:27:00 PM  11/05/2018 05:27:00 PM   \n",
       "104218   A668894  Spot  12/11/2013 03:31:00 PM  12/11/2013 03:31:00 PM   \n",
       "\n",
       "       Date of Birth     Outcome Type Outcome Subtype Animal Type  \\\n",
       "6188      11/05/2000  Return to Owner             NaN         Dog   \n",
       "16262     11/05/2000  Return to Owner             NaN         Dog   \n",
       "104218    12/11/2001  Return to Owner             NaN         Dog   \n",
       "\n",
       "       Sex upon Outcome Age upon Outcome                     Breed     Color  \n",
       "6188        Intact Male         18 years  Jack Russell Terrier Mix  Tricolor  \n",
       "16262       Intact Male         18 years  Jack Russell Terrier Mix  Tricolor  \n",
       "104218    Neutered Male         12 years           Rat Terrier Mix  Tricolor  "
      ]
     },
     "execution_count": 40,
     "metadata": {},
     "output_type": "execute_result"
    }
   ],
   "source": [
    "max_data = shelter_data.query('Name == \"Spot\" and Color == \"Tricolor\"')\n",
    "max_data.head()\n",
    "#vs\n",
    "#shelter_data[shelter_data['Name']==\"Max\"]"
   ]
  },
  {
   "cell_type": "code",
   "execution_count": 45,
   "metadata": {
    "slideshow": {
     "slide_type": "slide"
    }
   },
   "outputs": [
    {
     "data": {
      "text/html": [
       "<div>\n",
       "<style scoped>\n",
       "    .dataframe tbody tr th:only-of-type {\n",
       "        vertical-align: middle;\n",
       "    }\n",
       "\n",
       "    .dataframe tbody tr th {\n",
       "        vertical-align: top;\n",
       "    }\n",
       "\n",
       "    .dataframe thead th {\n",
       "        text-align: right;\n",
       "    }\n",
       "</style>\n",
       "<table border=\"1\" class=\"dataframe\">\n",
       "  <thead>\n",
       "    <tr style=\"text-align: right;\">\n",
       "      <th></th>\n",
       "      <th>Animal ID</th>\n",
       "      <th>Name</th>\n",
       "      <th>DateTime</th>\n",
       "      <th>MonthYear</th>\n",
       "      <th>Date of Birth</th>\n",
       "      <th>Outcome Type</th>\n",
       "      <th>Outcome Subtype</th>\n",
       "      <th>animal_type</th>\n",
       "      <th>Sex upon Outcome</th>\n",
       "      <th>Age upon Outcome</th>\n",
       "      <th>Breed</th>\n",
       "      <th>Color</th>\n",
       "    </tr>\n",
       "  </thead>\n",
       "  <tbody>\n",
       "    <tr>\n",
       "      <th>1</th>\n",
       "      <td>A785262</td>\n",
       "      <td>Calvin</td>\n",
       "      <td>09/13/2019 12:38:00 PM</td>\n",
       "      <td>09/13/2019 12:38:00 PM</td>\n",
       "      <td>04/24/2018</td>\n",
       "      <td>Adoption</td>\n",
       "      <td>NaN</td>\n",
       "      <td>Dog</td>\n",
       "      <td>Neutered Male</td>\n",
       "      <td>1 year</td>\n",
       "      <td>Wire Hair Fox Terrier/Chihuahua Shorthair</td>\n",
       "      <td>Black/White</td>\n",
       "    </tr>\n",
       "    <tr>\n",
       "      <th>3</th>\n",
       "      <td>A803789</td>\n",
       "      <td>*Sticks</td>\n",
       "      <td>09/13/2019 12:08:00 PM</td>\n",
       "      <td>09/13/2019 12:08:00 PM</td>\n",
       "      <td>09/06/2017</td>\n",
       "      <td>Adoption</td>\n",
       "      <td>NaN</td>\n",
       "      <td>Dog</td>\n",
       "      <td>Spayed Female</td>\n",
       "      <td>2 years</td>\n",
       "      <td>Cairn Terrier</td>\n",
       "      <td>Tricolor</td>\n",
       "    </tr>\n",
       "    <tr>\n",
       "      <th>4</th>\n",
       "      <td>A783086</td>\n",
       "      <td>Pirate</td>\n",
       "      <td>09/13/2019 12:03:00 PM</td>\n",
       "      <td>09/13/2019 12:03:00 PM</td>\n",
       "      <td>10/25/2017</td>\n",
       "      <td>Adoption</td>\n",
       "      <td>Foster</td>\n",
       "      <td>Dog</td>\n",
       "      <td>Neutered Male</td>\n",
       "      <td>1 year</td>\n",
       "      <td>German Shepherd Mix</td>\n",
       "      <td>Brown/White</td>\n",
       "    </tr>\n",
       "    <tr>\n",
       "      <th>5</th>\n",
       "      <td>A801743</td>\n",
       "      <td>NaN</td>\n",
       "      <td>09/13/2019 12:03:00 PM</td>\n",
       "      <td>09/13/2019 12:03:00 PM</td>\n",
       "      <td>01/24/2010</td>\n",
       "      <td>Transfer</td>\n",
       "      <td>Partner</td>\n",
       "      <td>Dog</td>\n",
       "      <td>Neutered Male</td>\n",
       "      <td>9 years</td>\n",
       "      <td>Miniature Poodle/Lhasa Apso</td>\n",
       "      <td>Chocolate</td>\n",
       "    </tr>\n",
       "    <tr>\n",
       "      <th>6</th>\n",
       "      <td>A804083</td>\n",
       "      <td>NaN</td>\n",
       "      <td>09/13/2019 12:03:00 PM</td>\n",
       "      <td>09/13/2019 12:03:00 PM</td>\n",
       "      <td>09/10/2017</td>\n",
       "      <td>Transfer</td>\n",
       "      <td>Partner</td>\n",
       "      <td>Dog</td>\n",
       "      <td>Intact Female</td>\n",
       "      <td>NaN</td>\n",
       "      <td>Shih Tzu/Miniature Poodle</td>\n",
       "      <td>White</td>\n",
       "    </tr>\n",
       "  </tbody>\n",
       "</table>\n",
       "</div>"
      ],
      "text/plain": [
       "  Animal ID     Name                DateTime               MonthYear  \\\n",
       "1   A785262   Calvin  09/13/2019 12:38:00 PM  09/13/2019 12:38:00 PM   \n",
       "3   A803789  *Sticks  09/13/2019 12:08:00 PM  09/13/2019 12:08:00 PM   \n",
       "4   A783086   Pirate  09/13/2019 12:03:00 PM  09/13/2019 12:03:00 PM   \n",
       "5   A801743      NaN  09/13/2019 12:03:00 PM  09/13/2019 12:03:00 PM   \n",
       "6   A804083      NaN  09/13/2019 12:03:00 PM  09/13/2019 12:03:00 PM   \n",
       "\n",
       "  Date of Birth Outcome Type Outcome Subtype animal_type Sex upon Outcome  \\\n",
       "1    04/24/2018     Adoption             NaN         Dog    Neutered Male   \n",
       "3    09/06/2017     Adoption             NaN         Dog    Spayed Female   \n",
       "4    10/25/2017     Adoption          Foster         Dog    Neutered Male   \n",
       "5    01/24/2010     Transfer         Partner         Dog    Neutered Male   \n",
       "6    09/10/2017     Transfer         Partner         Dog    Intact Female   \n",
       "\n",
       "  Age upon Outcome                                      Breed        Color  \n",
       "1           1 year  Wire Hair Fox Terrier/Chihuahua Shorthair  Black/White  \n",
       "3          2 years                              Cairn Terrier     Tricolor  \n",
       "4           1 year                        German Shepherd Mix  Brown/White  \n",
       "5          9 years                Miniature Poodle/Lhasa Apso    Chocolate  \n",
       "6              NaN                  Shih Tzu/Miniature Poodle        White  "
      ]
     },
     "execution_count": 45,
     "metadata": {},
     "output_type": "execute_result"
    }
   ],
   "source": [
    "shelter_data.rename(index=str, columns={\"Animal Type\": \"animal_type\"}, inplace = True)\n",
    "test = shelter_data.query('animal_type == \"Dog\"')\n",
    "test.head()"
   ]
  },
  {
   "cell_type": "markdown",
   "metadata": {
    "slideshow": {
     "slide_type": "slide"
    }
   },
   "source": [
    "## Goal 6: Transfering from sqlite to pandas"
   ]
  },
  {
   "cell_type": "code",
   "execution_count": 41,
   "metadata": {
    "slideshow": {
     "slide_type": "fragment"
    }
   },
   "outputs": [
    {
     "data": {
      "text/html": [
       "<div>\n",
       "<style scoped>\n",
       "    .dataframe tbody tr th:only-of-type {\n",
       "        vertical-align: middle;\n",
       "    }\n",
       "\n",
       "    .dataframe tbody tr th {\n",
       "        vertical-align: top;\n",
       "    }\n",
       "\n",
       "    .dataframe thead th {\n",
       "        text-align: right;\n",
       "    }\n",
       "</style>\n",
       "<table border=\"1\" class=\"dataframe\">\n",
       "  <thead>\n",
       "    <tr style=\"text-align: right;\">\n",
       "      <th></th>\n",
       "      <th>index</th>\n",
       "      <th>id</th>\n",
       "      <th>name</th>\n",
       "      <th>city</th>\n",
       "      <th>country</th>\n",
       "      <th>code</th>\n",
       "      <th>icao</th>\n",
       "      <th>latitude</th>\n",
       "      <th>longitude</th>\n",
       "      <th>altitude</th>\n",
       "      <th>offset</th>\n",
       "      <th>dst</th>\n",
       "      <th>timezone</th>\n",
       "    </tr>\n",
       "  </thead>\n",
       "  <tbody>\n",
       "    <tr>\n",
       "      <th>0</th>\n",
       "      <td>0</td>\n",
       "      <td>1</td>\n",
       "      <td>Goroka</td>\n",
       "      <td>Goroka</td>\n",
       "      <td>Papua New Guinea</td>\n",
       "      <td>GKA</td>\n",
       "      <td>AYGA</td>\n",
       "      <td>-6.081689</td>\n",
       "      <td>145.391881</td>\n",
       "      <td>5282</td>\n",
       "      <td>10</td>\n",
       "      <td>U</td>\n",
       "      <td>Pacific/Port_Moresby</td>\n",
       "    </tr>\n",
       "    <tr>\n",
       "      <th>1</th>\n",
       "      <td>1</td>\n",
       "      <td>2</td>\n",
       "      <td>Madang</td>\n",
       "      <td>Madang</td>\n",
       "      <td>Papua New Guinea</td>\n",
       "      <td>MAG</td>\n",
       "      <td>AYMD</td>\n",
       "      <td>-5.207083</td>\n",
       "      <td>145.7887</td>\n",
       "      <td>20</td>\n",
       "      <td>10</td>\n",
       "      <td>U</td>\n",
       "      <td>Pacific/Port_Moresby</td>\n",
       "    </tr>\n",
       "    <tr>\n",
       "      <th>2</th>\n",
       "      <td>2</td>\n",
       "      <td>3</td>\n",
       "      <td>Mount Hagen</td>\n",
       "      <td>Mount Hagen</td>\n",
       "      <td>Papua New Guinea</td>\n",
       "      <td>HGU</td>\n",
       "      <td>AYMH</td>\n",
       "      <td>-5.826789</td>\n",
       "      <td>144.295861</td>\n",
       "      <td>5388</td>\n",
       "      <td>10</td>\n",
       "      <td>U</td>\n",
       "      <td>Pacific/Port_Moresby</td>\n",
       "    </tr>\n",
       "    <tr>\n",
       "      <th>3</th>\n",
       "      <td>3</td>\n",
       "      <td>4</td>\n",
       "      <td>Nadzab</td>\n",
       "      <td>Nadzab</td>\n",
       "      <td>Papua New Guinea</td>\n",
       "      <td>LAE</td>\n",
       "      <td>AYNZ</td>\n",
       "      <td>-6.569828</td>\n",
       "      <td>146.726242</td>\n",
       "      <td>239</td>\n",
       "      <td>10</td>\n",
       "      <td>U</td>\n",
       "      <td>Pacific/Port_Moresby</td>\n",
       "    </tr>\n",
       "    <tr>\n",
       "      <th>4</th>\n",
       "      <td>4</td>\n",
       "      <td>5</td>\n",
       "      <td>Port Moresby Jacksons Intl</td>\n",
       "      <td>Port Moresby</td>\n",
       "      <td>Papua New Guinea</td>\n",
       "      <td>POM</td>\n",
       "      <td>AYPY</td>\n",
       "      <td>-9.443383</td>\n",
       "      <td>147.22005</td>\n",
       "      <td>146</td>\n",
       "      <td>10</td>\n",
       "      <td>U</td>\n",
       "      <td>Pacific/Port_Moresby</td>\n",
       "    </tr>\n",
       "  </tbody>\n",
       "</table>\n",
       "</div>"
      ],
      "text/plain": [
       "   index id                        name          city           country code  \\\n",
       "0      0  1                      Goroka        Goroka  Papua New Guinea  GKA   \n",
       "1      1  2                      Madang        Madang  Papua New Guinea  MAG   \n",
       "2      2  3                 Mount Hagen   Mount Hagen  Papua New Guinea  HGU   \n",
       "3      3  4                      Nadzab        Nadzab  Papua New Guinea  LAE   \n",
       "4      4  5  Port Moresby Jacksons Intl  Port Moresby  Papua New Guinea  POM   \n",
       "\n",
       "   icao   latitude   longitude altitude offset dst              timezone  \n",
       "0  AYGA  -6.081689  145.391881     5282     10   U  Pacific/Port_Moresby  \n",
       "1  AYMD  -5.207083    145.7887       20     10   U  Pacific/Port_Moresby  \n",
       "2  AYMH  -5.826789  144.295861     5388     10   U  Pacific/Port_Moresby  \n",
       "3  AYNZ  -6.569828  146.726242      239     10   U  Pacific/Port_Moresby  \n",
       "4  AYPY  -9.443383   147.22005      146     10   U  Pacific/Port_Moresby  "
      ]
     },
     "execution_count": 41,
     "metadata": {},
     "output_type": "execute_result"
    }
   ],
   "source": [
    "pd_con = sqlite3.connect(\"flights.db\")\n",
    "df = pd.read_sql_query(\"select * from airports limit 5;\", pd_con)\n",
    "df"
   ]
  },
  {
   "cell_type": "markdown",
   "metadata": {
    "slideshow": {
     "slide_type": "slide"
    }
   },
   "source": [
    "**Task**: \n",
    "Convert one of the earlier queries in the lesson to a pandas data frame"
   ]
  },
  {
   "cell_type": "code",
   "execution_count": null,
   "metadata": {},
   "outputs": [],
   "source": []
  },
  {
   "cell_type": "code",
   "execution_count": 44,
   "metadata": {},
   "outputs": [
    {
     "data": {
      "text/html": [
       "<div>\n",
       "<style scoped>\n",
       "    .dataframe tbody tr th:only-of-type {\n",
       "        vertical-align: middle;\n",
       "    }\n",
       "\n",
       "    .dataframe tbody tr th {\n",
       "        vertical-align: top;\n",
       "    }\n",
       "\n",
       "    .dataframe thead th {\n",
       "        text-align: right;\n",
       "    }\n",
       "</style>\n",
       "<table border=\"1\" class=\"dataframe\">\n",
       "  <thead>\n",
       "    <tr style=\"text-align: right;\">\n",
       "      <th></th>\n",
       "      <th>timezone</th>\n",
       "      <th>airport_count</th>\n",
       "    </tr>\n",
       "  </thead>\n",
       "  <tbody>\n",
       "    <tr>\n",
       "      <th>0</th>\n",
       "      <td>America/New_York</td>\n",
       "      <td>628</td>\n",
       "    </tr>\n",
       "    <tr>\n",
       "      <th>1</th>\n",
       "      <td>America/Chicago</td>\n",
       "      <td>373</td>\n",
       "    </tr>\n",
       "    <tr>\n",
       "      <th>2</th>\n",
       "      <td>Europe/Berlin</td>\n",
       "      <td>319</td>\n",
       "    </tr>\n",
       "    <tr>\n",
       "      <th>3</th>\n",
       "      <td>America/Anchorage</td>\n",
       "      <td>258</td>\n",
       "    </tr>\n",
       "    <tr>\n",
       "      <th>4</th>\n",
       "      <td>Europe/Paris</td>\n",
       "      <td>232</td>\n",
       "    </tr>\n",
       "  </tbody>\n",
       "</table>\n",
       "</div>"
      ],
      "text/plain": [
       "            timezone  airport_count\n",
       "0   America/New_York            628\n",
       "1    America/Chicago            373\n",
       "2      Europe/Berlin            319\n",
       "3  America/Anchorage            258\n",
       "4       Europe/Paris            232"
      ]
     },
     "execution_count": 44,
     "metadata": {},
     "output_type": "execute_result"
    }
   ],
   "source": [
    "# How many routes from DCA?\n",
    "df = pd.read_sql_query(\"\"\"SELECT timezone, count(*) as airport_count\n",
    "    FROM airports\n",
    "    GROUP BY 1\n",
    "    ORDER BY 2 DESC\n",
    "    limit 5\"\"\", pd_con)\n",
    "df"
   ]
  },
  {
   "cell_type": "code",
   "execution_count": null,
   "metadata": {},
   "outputs": [],
   "source": [
    "pd_con.close()"
   ]
  },
  {
   "cell_type": "markdown",
   "metadata": {
    "slideshow": {
     "slide_type": "slide"
    }
   },
   "source": [
    "## Integration\n",
    "\n",
    "The [Chinook database](https://github.com/lerocha/chinook-database) is a sample database, representing a digital media store.\n",
    "\n",
    "You need to create a query that can rank tracks in term of popularity.\n",
    "\n",
    "The name of the database is `Chinook_Sqlite.sqlite`"
   ]
  },
  {
   "cell_type": "markdown",
   "metadata": {
    "slideshow": {
     "slide_type": "slide"
    }
   },
   "source": [
    "Database information:<br>\n",
    "- How many tables are in the database?\n",
    "- What's the primary key of each table?\n",
    "- What foreign keys join the tables together?\n",
    "- If you had to draw a schema of how the tables are connected, what would it look like?"
   ]
  },
  {
   "cell_type": "markdown",
   "metadata": {
    "slideshow": {
     "slide_type": "slide"
    }
   },
   "source": [
    "To answer the question:<br>\n",
    "- What are the max and min dates in the Invoice table?\n",
    "- What tables would you need to answer \"what is your most popular track?\"\n",
    "- What values from each table?"
   ]
  },
  {
   "cell_type": "code",
   "execution_count": null,
   "metadata": {
    "slideshow": {
     "slide_type": "skip"
    }
   },
   "outputs": [],
   "source": [
    "conn = sqlite3.connect('Chinook_Sqlite.sqlite')\n",
    "cur = conn.cursor()"
   ]
  },
  {
   "cell_type": "code",
   "execution_count": null,
   "metadata": {},
   "outputs": [],
   "source": [
    "# How many tables are in the database?\n",
    "\n",
    "# your code here"
   ]
  },
  {
   "cell_type": "code",
   "execution_count": null,
   "metadata": {},
   "outputs": [],
   "source": [
    "# What's the primary key of each table?\n",
    "\n",
    "# your code here"
   ]
  },
  {
   "cell_type": "code",
   "execution_count": null,
   "metadata": {},
   "outputs": [],
   "source": [
    "# What foreign keys join the tables together?\n",
    "\n",
    "# your code here\n",
    "# hint: use \"PRAGMA foreign_key_list()\"\n"
   ]
  },
  {
   "cell_type": "code",
   "execution_count": null,
   "metadata": {},
   "outputs": [],
   "source": [
    "# What are the max and min dates in the Invoice table?\n",
    "cur.execute(\"\"\"\n",
    "-- your code here;\n",
    "\"\"\").fetchall()"
   ]
  },
  {
   "cell_type": "code",
   "execution_count": null,
   "metadata": {},
   "outputs": [],
   "source": [
    "# What tables would you need to answer \"what is your most popular track?\"\n"
   ]
  },
  {
   "cell_type": "code",
   "execution_count": null,
   "metadata": {},
   "outputs": [],
   "source": [
    "# What values from each table?\n"
   ]
  },
  {
   "cell_type": "code",
   "execution_count": null,
   "metadata": {},
   "outputs": [],
   "source": [
    "# Put it all together:\n",
    "# You need to create a query that can rank tracks in term of popularity.\n",
    "\n",
    "results = cur.execute(\"\"\"\n",
    "-- your code here;\n",
    "\"\"\").fetchall()\n",
    "\n",
    "print(*results, sep='\\n')"
   ]
  },
  {
   "cell_type": "code",
   "execution_count": null,
   "metadata": {},
   "outputs": [],
   "source": [
    "# Advanced: get the artist who sang the song!\n",
    "results = cur.execute(\"\"\"\n",
    "-- your code here;\n",
    "\"\"\").fetchall()\n",
    "\n",
    "print(*results, sep='\\n')"
   ]
  },
  {
   "cell_type": "markdown",
   "metadata": {
    "slideshow": {
     "slide_type": "slide"
    }
   },
   "source": [
    "## Reflection\n",
    "\n",
    "Please fill out today's [Exit Ticket](https://docs.google.com/forms/d/1dZg9MqBmLqJHWupgSBfvhicrVT1vyTejtaz3sXYsgGk/edit)!"
   ]
  }
 ],
 "metadata": {
  "kernelspec": {
   "display_name": "Python 3",
   "language": "python",
   "name": "python3"
  },
  "language_info": {
   "codemirror_mode": {
    "name": "ipython",
    "version": 3
   },
   "file_extension": ".py",
   "mimetype": "text/x-python",
   "name": "python",
   "nbconvert_exporter": "python",
   "pygments_lexer": "ipython3",
   "version": "3.7.3"
  }
 },
 "nbformat": 4,
 "nbformat_minor": 2
}
