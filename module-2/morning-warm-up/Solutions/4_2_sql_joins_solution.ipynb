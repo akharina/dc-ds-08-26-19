{
 "cells": [
  {
   "cell_type": "code",
   "execution_count": 1,
   "metadata": {},
   "outputs": [],
   "source": [
    "import sqlite3\n",
    "import pandas as pd"
   ]
  },
  {
   "cell_type": "markdown",
   "metadata": {},
   "source": [
    "### Section I "
   ]
  },
  {
   "cell_type": "code",
   "execution_count": 2,
   "metadata": {},
   "outputs": [
    {
     "data": {
      "text/plain": [
       "[('owners',)]"
      ]
     },
     "execution_count": 2,
     "metadata": {},
     "output_type": "execute_result"
    }
   ],
   "source": [
    "conn = sqlite3.connect('owners.db')\n",
    "c = conn.cursor()\n",
    "\n",
    "c.execute(\"SELECT name FROM sqlite_master WHERE type='table';\").fetchall()"
   ]
  },
  {
   "cell_type": "code",
   "execution_count": 3,
   "metadata": {},
   "outputs": [
    {
     "data": {
      "text/html": [
       "<div>\n",
       "<style scoped>\n",
       "    .dataframe tbody tr th:only-of-type {\n",
       "        vertical-align: middle;\n",
       "    }\n",
       "\n",
       "    .dataframe tbody tr th {\n",
       "        vertical-align: top;\n",
       "    }\n",
       "\n",
       "    .dataframe thead th {\n",
       "        text-align: right;\n",
       "    }\n",
       "</style>\n",
       "<table border=\"1\" class=\"dataframe\">\n",
       "  <thead>\n",
       "    <tr style=\"text-align: right;\">\n",
       "      <th></th>\n",
       "      <th>Name</th>\n",
       "      <th>Phone</th>\n",
       "      <th>Address</th>\n",
       "      <th>ID</th>\n",
       "    </tr>\n",
       "  </thead>\n",
       "  <tbody>\n",
       "    <tr>\n",
       "      <th>0</th>\n",
       "      <td>Josh Daniell</td>\n",
       "      <td>3132879573</td>\n",
       "      <td>1440 G st.</td>\n",
       "      <td>1</td>\n",
       "    </tr>\n",
       "    <tr>\n",
       "      <th>1</th>\n",
       "      <td>Alison Peebles Madigan</td>\n",
       "      <td>2147098190</td>\n",
       "      <td>None</td>\n",
       "      <td>2</td>\n",
       "    </tr>\n",
       "    <tr>\n",
       "      <th>2</th>\n",
       "      <td>Avi Flombaum</td>\n",
       "      <td>4698780125</td>\n",
       "      <td>1776 New York Ave</td>\n",
       "      <td>3</td>\n",
       "    </tr>\n",
       "    <tr>\n",
       "      <th>3</th>\n",
       "      <td>Justin Bieber</td>\n",
       "      <td>4103810987</td>\n",
       "      <td>None</td>\n",
       "      <td>4</td>\n",
       "    </tr>\n",
       "  </tbody>\n",
       "</table>\n",
       "</div>"
      ],
      "text/plain": [
       "                     Name       Phone            Address ID\n",
       "0            Josh Daniell  3132879573         1440 G st.  1\n",
       "1  Alison Peebles Madigan  2147098190               None  2\n",
       "2            Avi Flombaum  4698780125  1776 New York Ave  3\n",
       "3           Justin Bieber  4103810987               None  4"
      ]
     },
     "execution_count": 3,
     "metadata": {},
     "output_type": "execute_result"
    }
   ],
   "source": [
    "pd.read_sql_query(\"SELECT * FROM owners;\",conn)"
   ]
  },
  {
   "cell_type": "code",
   "execution_count": 4,
   "metadata": {},
   "outputs": [
    {
     "data": {
      "text/plain": [
       "<sqlite3.Cursor at 0x11cd14030>"
      ]
     },
     "execution_count": 4,
     "metadata": {},
     "output_type": "execute_result"
    }
   ],
   "source": [
    "c.execute(\"ATTACH DATABASE 'cats.db' as cats_db\")\n",
    "c.execute(\"ATTACH DATABASE 'dogs.db' as dogs_db\")"
   ]
  },
  {
   "cell_type": "code",
   "execution_count": 6,
   "metadata": {},
   "outputs": [
    {
     "data": {
      "text/html": [
       "<div>\n",
       "<style scoped>\n",
       "    .dataframe tbody tr th:only-of-type {\n",
       "        vertical-align: middle;\n",
       "    }\n",
       "\n",
       "    .dataframe tbody tr th {\n",
       "        vertical-align: top;\n",
       "    }\n",
       "\n",
       "    .dataframe thead th {\n",
       "        text-align: right;\n",
       "    }\n",
       "</style>\n",
       "<table border=\"1\" class=\"dataframe\">\n",
       "  <thead>\n",
       "    <tr style=\"text-align: right;\">\n",
       "      <th></th>\n",
       "      <th>Name</th>\n",
       "      <th>catName</th>\n",
       "      <th>dogName</th>\n",
       "    </tr>\n",
       "  </thead>\n",
       "  <tbody>\n",
       "    <tr>\n",
       "      <th>0</th>\n",
       "      <td>Justin Bieber</td>\n",
       "      <td>Bell</td>\n",
       "      <td>Bobo</td>\n",
       "    </tr>\n",
       "    <tr>\n",
       "      <th>1</th>\n",
       "      <td>Justin Bieber</td>\n",
       "      <td>Precious</td>\n",
       "      <td>Bobo</td>\n",
       "    </tr>\n",
       "  </tbody>\n",
       "</table>\n",
       "</div>"
      ],
      "text/plain": [
       "            Name   catName dogName\n",
       "0  Justin Bieber      Bell    Bobo\n",
       "1  Justin Bieber  Precious    Bobo"
      ]
     },
     "execution_count": 6,
     "metadata": {},
     "output_type": "execute_result"
    }
   ],
   "source": [
    "pd.read_sql_query(\"\"\"SELECT owners.Name,\n",
    "                            cats.Name catName,\n",
    "                            dogs.Name dogName\n",
    "                     FROM owners\n",
    "                     JOIN dogs on owners.ID = dogs.owner_ID\n",
    "                     JOIN cats on owners.ID = cats.owner_ID\n",
    "                     WHERE owners.Name = 'Justin Bieber'\n",
    "                ;\"\"\",conn)"
   ]
  },
  {
   "cell_type": "markdown",
   "metadata": {},
   "source": [
    "### Section II - 2 possible solutions "
   ]
  },
  {
   "cell_type": "markdown",
   "metadata": {},
   "source": [
    "#### a."
   ]
  },
  {
   "cell_type": "code",
   "execution_count": null,
   "metadata": {},
   "outputs": [],
   "source": [
    "c.execute(\"\"\"SELECT house_number, count((house_number)) as count FROM \n",
    "(SELECT * FROM dogs\n",
    "UNION \n",
    "SELECT * FROM cats) AS AB\n",
    "WHERE house_number IS NOT '' \n",
    "GROUP BY house_number\n",
    "ORDER BY count DESC; \"\"\") \n",
    "df = pd.DataFrame(c.fetchall())\n",
    "df.columns = [i[0] for i in c.description]\n",
    "df"
   ]
  },
  {
   "cell_type": "markdown",
   "metadata": {},
   "source": [
    "# b."
   ]
  },
  {
   "cell_type": "code",
   "execution_count": null,
   "metadata": {},
   "outputs": [],
   "source": [
    "c.execute(\"\"\"WITH dogs_count AS (SELECT house_number, count(name) AS num_dogs\n",
    "FROM dogs \n",
    "GROUP BY house_number), cats_count AS \n",
    "(SELECT house_number, count(name) AS num_cats\n",
    "FROM cats \n",
    "GROUP BY house_number)\n",
    "SELECT dogs_count.house_number, num_dogs + num_cats as sum_pets FROM dogs_count\n",
    "LEFT JOIN cats_count on dogs_count.house_number = cats_count.house_number\n",
    "ORDER BY sum_pets DESC\n",
    "LIMIT 2\n",
    "; \"\"\") \n",
    "df = pd.DataFrame(c.fetchall())\n",
    "df.columns = [i[0] for i in c.description]\n",
    "df"
   ]
  },
  {
   "cell_type": "markdown",
   "metadata": {},
   "source": [
    "### Section III"
   ]
  },
  {
   "cell_type": "code",
   "execution_count": null,
   "metadata": {},
   "outputs": [],
   "source": [
    "c.execute(\"\"\"SELECT owners_with_dogs.Name AS owner_name\n",
    ", dogs.Name AS dog_name\n",
    ", cats.Name AS cat_name\n",
    ", owners_with_dogs.address\n",
    ", owners_with_dogs.phone\n",
    "FROM owners as owners_with_dogs \n",
    "JOIN dogs on owners_with_dogs.id = dogs.Owner_ID \n",
    "JOIN cats on owners_with_dogs.id = cats.Owner_ID\n",
    "WHERE address = 'None'\n",
    "GROUP BY owner_name, address\n",
    "; \"\"\") \n",
    "df = pd.DataFrame(c.fetchall())\n",
    "df.columns = [i[0] for i in c.description]\n",
    "df"
   ]
  }
 ],
 "metadata": {
  "kernelspec": {
   "display_name": "Python 3",
   "language": "python",
   "name": "python3"
  },
  "language_info": {
   "codemirror_mode": {
    "name": "ipython",
    "version": 3
   },
   "file_extension": ".py",
   "mimetype": "text/x-python",
   "name": "python",
   "nbconvert_exporter": "python",
   "pygments_lexer": "ipython3",
   "version": "3.7.3"
  }
 },
 "nbformat": 4,
 "nbformat_minor": 2
}
