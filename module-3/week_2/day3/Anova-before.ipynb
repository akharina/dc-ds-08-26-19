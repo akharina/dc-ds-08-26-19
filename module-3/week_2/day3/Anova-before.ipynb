{
 "cells": [
  {
   "cell_type": "markdown",
   "metadata": {},
   "source": [
    "# ANOVA \n",
    "\n",
    "## Introduction\n",
    "\n",
    "ANOVA (Analysis of Variance) is a method for generalizing statistical tests to multiple groups. As you'll see, ANOVA  analyses the overall variance of a dataset by partitioning the total sum of square of deviations (from the mean) into sum of squares for each of these groups and sum of squares for error. By comparing statistical test for multiple groups, it can serve as a useful alternative to the $t$-tests you've encountered thus far, when you wish to test multiple factors simultaneously.\n",
    "\n",
    "## Objectives\n",
    "\n",
    "You will be able to:\n",
    "* Use ANOVA for testing multiple pairwise comparisons\n",
    "* Understand and explain the methodology behind ANOVA tests\n",
    "\n",
    "### Analysis of Variance:\n",
    "\n",
    "- The main problem is: Can we determine whether a set of population means are the same or different from samples from these populations.\n",
    "\n",
    "- Natural Question: Hint: What other test we were using for similar procedure - why can't we use the same (or modified version) here? (Let's count if we have 10 different population how many tests we should do in total?)\n",
    "\n",
    "- Even if we were able to use above method, what happens to the significance levels?\n",
    "\n",
    "**The main idea: We will compare variances within the group with the total variance to be able to say that whether population means are equal or not.**\n",
    "\n",
    "__Wait!!__ Why use the variance to compare the means?\n",
    "\n",
    "Let's check this from a scenerio!!"
   ]
  },
  {
   "cell_type": "code",
   "execution_count": 2,
   "metadata": {},
   "outputs": [],
   "source": [
    "import numpy as np\n",
    "\n",
    "import pandas as pd\n",
    "\n",
    "import matplotlib.pyplot as plt\n",
    "\n",
    "from scipy import stats \n"
   ]
  },
  {
   "cell_type": "code",
   "execution_count": 26,
   "metadata": {
    "scrolled": true
   },
   "outputs": [
    {
     "data": {
      "text/html": [
       "<div>\n",
       "<style scoped>\n",
       "    .dataframe tbody tr th:only-of-type {\n",
       "        vertical-align: middle;\n",
       "    }\n",
       "\n",
       "    .dataframe tbody tr th {\n",
       "        vertical-align: top;\n",
       "    }\n",
       "\n",
       "    .dataframe thead th {\n",
       "        text-align: right;\n",
       "    }\n",
       "</style>\n",
       "<table border=\"1\" class=\"dataframe\">\n",
       "  <thead>\n",
       "    <tr style=\"text-align: right;\">\n",
       "      <th></th>\n",
       "      <th>sample1</th>\n",
       "      <th>sample2</th>\n",
       "      <th>sample3</th>\n",
       "      <th>sample4</th>\n",
       "      <th>sample5</th>\n",
       "      <th>sample6</th>\n",
       "    </tr>\n",
       "  </thead>\n",
       "  <tbody>\n",
       "    <tr>\n",
       "      <th>0</th>\n",
       "      <td>5.879034</td>\n",
       "      <td>10.797024</td>\n",
       "      <td>15.112715</td>\n",
       "      <td>7.754053</td>\n",
       "      <td>14.347268</td>\n",
       "      <td>21.415129</td>\n",
       "    </tr>\n",
       "    <tr>\n",
       "      <th>1</th>\n",
       "      <td>6.025785</td>\n",
       "      <td>10.549020</td>\n",
       "      <td>15.409104</td>\n",
       "      <td>11.260232</td>\n",
       "      <td>9.010527</td>\n",
       "      <td>22.919929</td>\n",
       "    </tr>\n",
       "    <tr>\n",
       "      <th>2</th>\n",
       "      <td>5.902914</td>\n",
       "      <td>9.747196</td>\n",
       "      <td>13.185289</td>\n",
       "      <td>8.747807</td>\n",
       "      <td>14.778041</td>\n",
       "      <td>16.921277</td>\n",
       "    </tr>\n",
       "    <tr>\n",
       "      <th>3</th>\n",
       "      <td>6.200786</td>\n",
       "      <td>9.881206</td>\n",
       "      <td>15.352465</td>\n",
       "      <td>10.743522</td>\n",
       "      <td>13.004283</td>\n",
       "      <td>14.832441</td>\n",
       "    </tr>\n",
       "    <tr>\n",
       "      <th>4</th>\n",
       "      <td>6.036509</td>\n",
       "      <td>9.289495</td>\n",
       "      <td>15.827283</td>\n",
       "      <td>5.691244</td>\n",
       "      <td>11.769974</td>\n",
       "      <td>25.697573</td>\n",
       "    </tr>\n",
       "  </tbody>\n",
       "</table>\n",
       "</div>"
      ],
      "text/plain": [
       "    sample1    sample2    sample3    sample4    sample5    sample6\n",
       "0  5.879034  10.797024  15.112715   7.754053  14.347268  21.415129\n",
       "1  6.025785  10.549020  15.409104  11.260232   9.010527  22.919929\n",
       "2  5.902914   9.747196  13.185289   8.747807  14.778041  16.921277\n",
       "3  6.200786   9.881206  15.352465  10.743522  13.004283  14.832441\n",
       "4  6.036509   9.289495  15.827283   5.691244  11.769974  25.697573"
      ]
     },
     "execution_count": 26,
     "metadata": {},
     "output_type": "execute_result"
    }
   ],
   "source": [
    "## case1: create 3 sets with means 6,10,15 of size 20 with small variances \n",
    "#name them sample1, sample2, sample3\n",
    "sample1 = np.random.normal(loc = 6, scale = .1, size = 20) \n",
    "\n",
    "sample2 = np.random.normal(loc = 10, scale = .3, size = 20) \n",
    "\n",
    "sample3 = np.random.normal(loc = 15, scale = 1, size = 20) \n",
    "## case2: Create 3 sets with means 6,10,15 of size 20 with bigger variances\n",
    "\n",
    "sample4 = np.random.normal(loc = 6, scale = 3, size = 20) \n",
    "\n",
    "sample5 = np.random.normal(loc = 10, scale = 3, size = 20) \n",
    "\n",
    "sample6 = np.random.normal(loc = 15, scale = 5, size = 20) \n",
    "\n",
    "## put these samples in a dataframe and relabel columns\n",
    "# numpy_df = np.matrix()\n",
    "\n",
    "df = pd.DataFrame([sample1,sample2,sample3,sample4,sample5,sample6]).T\n",
    "df.columns =['sample1','sample2','sample3','sample4','sample5','sample6']\n",
    "\n",
    "# df = pd.DataFrame(data=np.stack([sample1,sample2,sample3,sample4,sample5,sample6]), columns = ['sample1','sample2','sample4','sample5','sample6']))\n",
    "df.head()"
   ]
  },
  {
   "cell_type": "code",
   "execution_count": 2,
   "metadata": {},
   "outputs": [],
   "source": [
    "## plot the data using boxplots - also mark the means\n",
    "\n"
   ]
  },
  {
   "cell_type": "code",
   "execution_count": 28,
   "metadata": {},
   "outputs": [
    {
     "name": "stdout",
     "output_type": "stream",
     "text": [
      "Means of the samples are:  5.99267882362426 10.012674460781524 14.964379544962569 \n",
      " 7.46983404460813 9.987125123733643 15.91115955644681\n"
     ]
    }
   ],
   "source": [
    "## lets print the means of the samples\n",
    "\n",
    "print('Means of the samples are: ', sample1.mean(), \n",
    "      sample2.mean(),\n",
    "      sample3.mean(), '\\n',\n",
    "      sample4.mean(),\n",
    "      sample5.mean(),\n",
    "      sample6.mean())"
   ]
  },
  {
   "cell_type": "markdown",
   "metadata": {},
   "source": [
    "Note that here even though the variations of $\\{s_1, s_2, s_3\\}$ equals to the variations of the means in $\\{s_4, s_5, s_6\\}$ we can see this as a stronger evidence to argue that the population means are different in the first group.\n",
    "\n",
    "__Summary__ ANOVA: comparison of the variance among the means of the populations to the variance among sample observations within the individual populations.\n",
    "\n",
    "### Notation\n",
    "\n",
    "- $t$: total number of populations\n",
    "\n",
    "- $n_{i}$ number of observations within the sample $i$ drawn from the population $i$.\n",
    "\n",
    "- $y_{ij}$: the measurement for the $j$th observation from the $i$th sample.\n",
    "\n",
    "- $\\mu_{i}$ is the mean for the $i$th population.\n",
    "\n",
    "__observations__\n",
    "\n",
    "$n = \\sum\\limits_{i} n_{i}$ is the total number of observations\n",
    "\n",
    "### Hypotheses\n",
    "\n",
    "-  $H_{0}: \\mu_{1} = \\mu_{2} = \\cdots = \\mu_{t}$ \n",
    "\n",
    "- $H_{a}$: at least one of the equality is not satisfied"
   ]
  },
  {
   "cell_type": "markdown",
   "metadata": {},
   "source": [
    "## Experiment with F-statistics\n",
    "\n",
    "__step1__\n",
    "\n",
    "- Choose a sample of 20 from a normal distribution with $\\mu=20$ and $\\sigma=2$ and repeat this process 1000 times record variance each time\n",
    "\n",
    "- Repeat the same process but this time with $\\mu = 10$, $\\sigma = 2$"
   ]
  },
  {
   "cell_type": "code",
   "execution_count": 67,
   "metadata": {},
   "outputs": [],
   "source": [
    "sample_var1 = []\n",
    "for i in range(1000):\n",
    "    sample = np.random.normal(loc = 20, scale = 2, size = 6) \n",
    "    sample_var1.append(sample.var(ddof=1)*5/4)\n",
    "    \n",
    "sample_var2 = []\n",
    "for i in range(1000):\n",
    "    sample = np.random.normal(loc = 10, scale = 2, size = 6)\n",
    "    sample_var2.append(sample.var(ddof=1)*5/4)\n",
    "\n",
    "#sample_var*degree_of_freedom/variance \n",
    "#degree of freedom = sample size-1\n",
    "#variance = scale(standard deviation)^2"
   ]
  },
  {
   "cell_type": "markdown",
   "metadata": {},
   "source": [
    "__step2__\n",
    "\n",
    "Look at the ratio of the variances and plot it."
   ]
  },
  {
   "cell_type": "code",
   "execution_count": 68,
   "metadata": {
    "scrolled": false
   },
   "outputs": [
    {
     "data": {
      "image/png": "[encoded data removed]",
      "text/plain": [
       "<Figure size 432x288 with 1 Axes>"
      ]
     },
     "metadata": {
      "needs_background": "light"
     },
     "output_type": "display_data"
    }
   ],
   "source": [
    "plt.hist(sample_var2,alpha=.5,density=True, label='mean=10',bins=20)\n",
    "plt.hist(sample_var1,alpha=.5,density=True,label='mean=20',bins=20)\n",
    "plt.legend();"
   ]
  },
  {
   "cell_type": "code",
   "execution_count": 69,
   "metadata": {
    "scrolled": false
   },
   "outputs": [
    {
     "data": {
      "image/png": "[encoded data removed]",
      "text/plain": [
       "<Figure size 432x288 with 1 Axes>"
      ]
     },
     "metadata": {
      "needs_background": "light"
     },
     "output_type": "display_data"
    }
   ],
   "source": [
    "fdist = np.array(sample_var1)/np.array(sample_var2)\n",
    "plt.hist(fdist,density=True,bins=20);"
   ]
  },
  {
   "cell_type": "code",
   "execution_count": 70,
   "metadata": {
    "scrolled": true
   },
   "outputs": [
    {
     "data": {
      "image/png": "[encoded data removed]",
      "text/plain": [
       "<Figure size 432x288 with 1 Axes>"
      ]
     },
     "metadata": {
      "needs_background": "light"
     },
     "output_type": "display_data"
    }
   ],
   "source": [
    "import seaborn as sns\n",
    "sns.distplot(fdist, kde=True);"
   ]
  },
  {
   "cell_type": "code",
   "execution_count": 60,
   "metadata": {},
   "outputs": [],
   "source": [
    "from scipy.stats import f"
   ]
  },
  {
   "cell_type": "code",
   "execution_count": 62,
   "metadata": {},
   "outputs": [
    {
     "data": {
      "image/png": "[encoded data removed]",
      "text/plain": [
       "<Figure size 432x288 with 1 Axes>"
      ]
     },
     "metadata": {
      "needs_background": "light"
     },
     "output_type": "display_data"
    }
   ],
   "source": [
    "## An example of F statistics\n",
    "\n",
    "fig, ax = plt.subplots(1, 1)\n",
    "dfn, dfd = 19,19\n",
    "\n",
    "\n",
    "x = np.linspace(f.ppf(0.01, dfn, dfd),\n",
    "                f.ppf(0.99, dfn, dfd), 100)\n",
    "\n",
    "ax.plot(x, f.pdf(x, dfn, dfd),\n",
    "       'r-', lw=5, alpha=0.6, label='f pdf')\n",
    "\n",
    "rv = f(dfn, dfd)\n",
    "ax.plot(x, rv.pdf(x), 'k-', lw=2, label='frozen pdf')\n",
    "\n",
    "ax.legend(loc='best', frameon=False);"
   ]
  },
  {
   "cell_type": "markdown",
   "metadata": {},
   "source": [
    "## ANOVA"
   ]
  },
  {
   "cell_type": "code",
   "execution_count": 72,
   "metadata": {},
   "outputs": [],
   "source": [
    "## let's create a data set first\n",
    "\n",
    "\n",
    "## sample sizes for different groups\n",
    "n1 =20\n",
    "n2 =20\n",
    "n3 =20\n",
    "n4 =20\n",
    "\n",
    "## number of groups\n",
    "t = 4"
   ]
  },
  {
   "cell_type": "code",
   "execution_count": 75,
   "metadata": {},
   "outputs": [],
   "source": [
    "x1 = np.random.normal(loc = 950, scale = 100, size = n1)\n",
    "\n",
    "x2 = np.random.normal(loc = 928, scale = 100, size = n2)\n",
    "\n",
    "x3 = np.random.normal(loc = 938, scale = 100, size = n3)\n",
    "\n",
    "x4 = np.random.normal(loc = 1116, scale = 100, size = n4)\n",
    "\n",
    "df = pd.DataFrame(data = np.stack([x1, x2,x3,x4], axis = 1), columns= ['s1', 's2', 's3', 's4'])"
   ]
  },
  {
   "cell_type": "code",
   "execution_count": 76,
   "metadata": {
    "scrolled": true
   },
   "outputs": [
    {
     "data": {
      "image/png": "[encoded data removed]",
      "text/plain": [
       "<Figure size 432x288 with 1 Axes>"
      ]
     },
     "metadata": {
      "needs_background": "light"
     },
     "output_type": "display_data"
    }
   ],
   "source": [
    "df.boxplot(showmeans = True)\n",
    "\n",
    "plt.show()"
   ]
  },
  {
   "cell_type": "markdown",
   "metadata": {},
   "source": [
    "## Hypothesis\n",
    "\n",
    "$H_{0}$: $\\mu_{1} = \\mu_{2} = \\mu_{3} = \\mu_{4}$\n",
    "\n",
    "$H_{a}$: not all means are equal.\n",
    "\n",
    "$\\alpha = 0.05$"
   ]
  },
  {
   "cell_type": "code",
   "execution_count": 77,
   "metadata": {},
   "outputs": [],
   "source": [
    "## for the first group\n",
    "\n",
    "y1_bar = x1.mean()\n",
    "\n",
    "ss1 = x1.var(ddof =1)\n",
    "\n",
    "## for the second group\n",
    "\n",
    "y2_bar = x2.mean()\n",
    "\n",
    "ss2 = x2.var(ddof = 1)\n",
    "\n",
    "## for the third group\n",
    "\n",
    "y3_bar = x3.mean()\n",
    "\n",
    "ss3 = x3.var(ddof = 1)\n",
    "\n",
    "## for the last group\n",
    "\n",
    "y4_bar = x4.mean()\n",
    "\n",
    "ss4 = x4.var(ddof =1)"
   ]
  },
  {
   "cell_type": "code",
   "execution_count": 78,
   "metadata": {},
   "outputs": [],
   "source": [
    "## pooled variance\n",
    "\n",
    "s_p = sum([ss1, ss2, ss3, ss4])/ (sum([n1, n2, n3, n4]) - 4)"
   ]
  },
  {
   "cell_type": "code",
   "execution_count": 79,
   "metadata": {},
   "outputs": [],
   "source": [
    "y = np.sum([x1,x2,x3,x4])\n",
    "\n",
    "y_bar = y/(n1 + n2 + n3 + n4)\n",
    "\n",
    "ns_means =(n1 + n2 + n3 + n4)*(np.sum([(y1_bar - y_bar)**2, \n",
    "                                       (y2_bar - y_bar)**2,\n",
    "                                       (y3_bar - y_bar)**2, \n",
    "                                       (y4_bar - y_bar)**2 ])) / (t-1)"
   ]
  },
  {
   "cell_type": "markdown",
   "metadata": {},
   "source": [
    "Our null hypothesis says fscore is 1"
   ]
  },
  {
   "cell_type": "code",
   "execution_count": 80,
   "metadata": {},
   "outputs": [
    {
     "data": {
      "text/plain": [
       "1141.655837756427"
      ]
     },
     "execution_count": 80,
     "metadata": {},
     "output_type": "execute_result"
    }
   ],
   "source": [
    "f_score = ns_means/s_p\n",
    "f_score"
   ]
  },
  {
   "cell_type": "code",
   "execution_count": 86,
   "metadata": {},
   "outputs": [],
   "source": [
    "#t = number of groups\n",
    "\n",
    "dfn = t - 1\n",
    "\n",
    "dfd = (n1 + n2 + n3 + n4)- t"
   ]
  },
  {
   "cell_type": "code",
   "execution_count": 87,
   "metadata": {},
   "outputs": [
    {
     "data": {
      "text/plain": [
       "1.1102230246251565e-16"
      ]
     },
     "execution_count": 87,
     "metadata": {},
     "output_type": "execute_result"
    }
   ],
   "source": [
    "#Look at p-value\n",
    "1 - f.cdf(f_score, dfn, dfd)"
   ]
  },
  {
   "cell_type": "code",
   "execution_count": null,
   "metadata": {},
   "outputs": [],
   "source": []
  }
 ],
 "metadata": {
  "kernelspec": {
   "display_name": "Python 3",
   "language": "python",
   "name": "python3"
  },
  "language_info": {
   "codemirror_mode": {
    "name": "ipython",
    "version": 3
   },
   "file_extension": ".py",
   "mimetype": "text/x-python",
   "name": "python",
   "nbconvert_exporter": "python",
   "pygments_lexer": "ipython3",
   "version": "3.7.3"
  }
 },
 "nbformat": 4,
 "nbformat_minor": 2
}
