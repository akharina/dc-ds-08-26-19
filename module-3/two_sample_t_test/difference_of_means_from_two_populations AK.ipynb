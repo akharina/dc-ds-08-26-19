{
 "cells": [
  {
   "cell_type": "markdown",
   "metadata": {},
   "source": [
    "## Statistical Inference About Means and Proportions with Two Populations\n",
    "In previous sessions we learnt how to develop interval estimates and conduct hypothesis tests for situations involving a single population mean. We continue our discussion of statistical inference by showing how interval estimates and hypothesis tests can be developed for situations involving two populations when the dif- ference between the two population means or the two population proportions is of prime im- portance.\n",
    "\n",
    "### Objectives\n",
    "\n",
    "- Type I - Type II errors\n",
    "\n",
    "- Comparing population means in the case population variances are known\n",
    "\n",
    "- Comparing population means in the case population variances are not known\n",
    "\n",
    "### Inferences About the Difference Between Two Population Means: $\\sigma_{1}$ and $\\sigma_{2}$ Known\n",
    "\n",
    "__Scenerio__\n",
    "\n",
    "Suppose we noticed that Flatiron DC datascience graduates find a lot quicker jobs than in NYC campus. Adam Enbar believes that this is because DC student's number of years spent in education is higher than the NYC campus. Suppose we are asked to investigate this situation to find out whether there is any statistically significant difference between the mean number of years spent for education of the studens from two campuses. \n",
    "\n",
    "$\\mu_{1} $ = mean population 1. (the mean # of years among all the DC datascience students.)\n",
    "\n",
    "$\\mu_{2} $ = mean population 2. (The mean # of years among all the NYC datascience students.)\n",
    "\n",
    "$\\bar{x}_{1}$ = sample mean number of years of education for the $n_1$ DC campus students. \n",
    "\n",
    "$\\bar{x}_{2}$ = sample mean number of years of education for the $n_{2}$ NYC campus students.\n",
    "\n",
    "$ \\bar{x}_{1} - \\bar{x}_{2}$ is called **point estimator of the difference between two population**.\n",
    "\n",
    "\n",
    "One can show that the standard error for the $\\bar{x}_{1} - \\bar{x}_{2}$ is \n",
    "\n",
    "$$ \\sigma_{\\bar{x}_{1} - \\bar{x}_{2}} = \\sqrt{\\frac{\\sigma_{1}^{2}}{n_{1}} + \\frac{\\sigma_{2}^{2}}{n_{2}}}$$\n",
    "\n",
    "Where sigmas are population variances\n",
    "<br>\n",
    "<br>\n",
    "\n",
    "\n",
    "> **Recall that the standard error is just the standard deviation of the sampling distribution of $\\bar{x}_{1} - \\bar{x}_{2}$**\n",
    "\n",
    "If we want to find an interval estimates, then\n",
    "\n",
    "$$\\text{Interval Estimates} = (\\bar{x}_{1} - \\bar{x}_{2}) \\pm \\text{Margin of Error} $$\n",
    "\n",
    "where margin of error is \n",
    "\n",
    "$$ \\text{Margin of Error} = z_{\\alpha/2}\\sigma_{\\bar{x}_{1} - \\bar{x}_{2}}$$"
   ]
  },
  {
   "cell_type": "markdown",
   "metadata": {},
   "source": [
    "## Form Null and Alternative Hypothesis\n",
    "|\n",
    "\n",
    "$H_{0}$ : There is no difference between two population means, which means   $\\mu_{1} - \\mu_{2} = 0$\n",
    "\n",
    "$H_{a}$ : DC is better than NY, which means   $\\mu_{1} - \\mu_{2} > 0$\n",
    "\n",
    "<br>\n",
    "\n",
    "End of story: we can reject $H_{0}$ or not reject $H_{0}$\n",
    "\n",
    "<br>\n",
    "<br>\n",
    "\n",
    "|  your work is here -  take $\\alpha = 0.05$\n",
    "\n",
    "|"
   ]
  },
  {
   "cell_type": "code",
   "execution_count": 14,
   "metadata": {},
   "outputs": [
    {
     "name": "stdout",
     "output_type": "stream",
     "text": [
      "Requirement already satisfied: watermark in /anaconda3/lib/python3.7/site-packages (1.8.2)\n",
      "Requirement already satisfied: ipython in /anaconda3/lib/python3.7/site-packages (from watermark) (7.6.1)\n",
      "Requirement already satisfied: setuptools>=18.5 in /anaconda3/lib/python3.7/site-packages (from ipython->watermark) (41.0.1)\n",
      "Requirement already satisfied: appnope; sys_platform == \"darwin\" in /anaconda3/lib/python3.7/site-packages (from ipython->watermark) (0.1.0)\n",
      "Requirement already satisfied: prompt-toolkit<2.1.0,>=2.0.0 in /anaconda3/lib/python3.7/site-packages (from ipython->watermark) (2.0.9)\n",
      "Requirement already satisfied: traitlets>=4.2 in /anaconda3/lib/python3.7/site-packages (from ipython->watermark) (4.3.2)\n",
      "Requirement already satisfied: pexpect; sys_platform != \"win32\" in /anaconda3/lib/python3.7/site-packages (from ipython->watermark) (4.7.0)\n",
      "Requirement already satisfied: pygments in /anaconda3/lib/python3.7/site-packages (from ipython->watermark) (2.4.2)\n",
      "Requirement already satisfied: jedi>=0.10 in /anaconda3/lib/python3.7/site-packages (from ipython->watermark) (0.13.3)\n",
      "Requirement already satisfied: pickleshare in /anaconda3/lib/python3.7/site-packages (from ipython->watermark) (0.7.5)\n",
      "Requirement already satisfied: decorator in /anaconda3/lib/python3.7/site-packages (from ipython->watermark) (4.4.0)\n",
      "Requirement already satisfied: backcall in /anaconda3/lib/python3.7/site-packages (from ipython->watermark) (0.1.0)\n",
      "Requirement already satisfied: wcwidth in /anaconda3/lib/python3.7/site-packages (from prompt-toolkit<2.1.0,>=2.0.0->ipython->watermark) (0.1.7)\n",
      "Requirement already satisfied: six>=1.9.0 in /anaconda3/lib/python3.7/site-packages (from prompt-toolkit<2.1.0,>=2.0.0->ipython->watermark) (1.12.0)\n",
      "Requirement already satisfied: ipython-genutils in /anaconda3/lib/python3.7/site-packages (from traitlets>=4.2->ipython->watermark) (0.2.0)\n",
      "Requirement already satisfied: ptyprocess>=0.5 in /anaconda3/lib/python3.7/site-packages (from pexpect; sys_platform != \"win32\"->ipython->watermark) (0.6.0)\n",
      "Requirement already satisfied: parso>=0.3.0 in /anaconda3/lib/python3.7/site-packages (from jedi>=0.10->ipython->watermark) (0.5.0)\n",
      "The watermark extension is already loaded. To reload it, use:\n",
      "  %reload_ext watermark\n",
      "numpy 1.17.2\n",
      "scipy 1.3.0\n",
      "CPython 3.7.3\n",
      "IPython 7.6.1\n"
     ]
    }
   ],
   "source": [
    "!pip install watermark\n",
    "%load_ext watermark\n",
    "\n",
    "%watermark -iv -v"
   ]
  },
  {
   "cell_type": "code",
   "execution_count": 13,
   "metadata": {},
   "outputs": [],
   "source": [
    "import numpy as np\n",
    "\n",
    "from scipy import stats"
   ]
  },
  {
   "cell_type": "code",
   "execution_count": 3,
   "metadata": {},
   "outputs": [
    {
     "name": "stdout",
     "output_type": "stream",
     "text": [
      "Requirement already up-to-date: pip in /anaconda3/lib/python3.7/site-packages (19.2.3)\n",
      "Requirement already up-to-date: numpy in /anaconda3/lib/python3.7/site-packages (1.17.2)\n"
     ]
    }
   ],
   "source": [
    "!pip install --upgrade pip numpy "
   ]
  },
  {
   "cell_type": "code",
   "execution_count": 22,
   "metadata": {},
   "outputs": [
    {
     "name": "stdout",
     "output_type": "stream",
     "text": [
      "interval estimate for the differences of the means is [-0.41012306702224555, 4.336256167415735]\n"
     ]
    }
   ],
   "source": [
    "np.random.seed(192)\n",
    "\n",
    "## Note that here we assumed that the populations are normally distributed\n",
    "## What would happen if this wouldn't be the case?\n",
    "\n",
    "dc_campus = np.random.normal(loc = 6, scale = 2, size = 17)\n",
    "nyc_campus = np.random.normal(loc = 4, scale = 4, size = 13)\n",
    "\n",
    "\n",
    "x1_bar = dc_campus.mean()\n",
    "x2_bar = nyc_campus.mean()\n",
    "n1 = len(dc_campus)\n",
    "n2 = len(nyc_campus)\n",
    "sigma1 = 2\n",
    "sigma2 = 4\n",
    "\n",
    "std_error = np.sqrt(sigma1**2 / (n1) + sigma2**2 / (n2)) \n",
    "\n",
    "\n",
    "## where 1.96 come from? Hint: what is z_{alpha/2} for alpha = 0.05?\n",
    "margin_error = std_error * 1.96\n",
    "\n",
    "lower_bound = x1_bar - x2_bar - margin_error\n",
    "\n",
    "upper_bound = x1_bar - x2_bar + margin_error\n",
    "\n",
    "\n",
    "## How can we interpret this interval?\n",
    "\n",
    "print('interval estimate for the differences of the means is [{}, {}]'.format(lower_bound, upper_bound))"
   ]
  },
  {
   "cell_type": "markdown",
   "metadata": {},
   "source": [
    "There is 95% chance that this interval will contain the true mean. <br>\n",
    "True mean does not move -- the interval does"
   ]
  },
  {
   "cell_type": "markdown",
   "metadata": {},
   "source": [
    "Note that instead of an estimation interval we could also find a z-statistic. Recall that the z-score is given by:\n",
    "\n",
    "$$  z = \\frac{(\\bar{x}_{1} - \\bar{x}_{2}) - D_{0}}{\\sqrt{\\frac{\\sigma_{1}^{2}}{n_{1}} + \\frac{\\sigma_{2}^{2}}{n_{2}}}} $$"
   ]
  },
  {
   "cell_type": "code",
   "execution_count": 23,
   "metadata": {},
   "outputs": [
    {
     "name": "stdout",
     "output_type": "stream",
     "text": [
      "z-statistics is 1.6212823494881214\n",
      "corresponding probability density is 0.10718309254451341\n",
      "Probability of getting z smaller than 1.6212823494881214 is 0.9475214506697328\n",
      "Probability of getting such z-value or higher by just chance is 0.05247854933026719\n"
     ]
    }
   ],
   "source": [
    "## Let's calculate the z-score with null hypothesis D_0 = 0 \n",
    "\n",
    "z = (x1_bar - x2_bar) / std_error\n",
    "\n",
    "print(f'z-statistics is {z}')\n",
    "\n",
    "z_pdf = stats.norm.pdf(z)\n",
    "\n",
    "print(f'corresponding probability density is {z_pdf}')\n",
    "\n",
    "z_cdf = stats.norm.cdf(z)\n",
    "\n",
    "print(f'Probability of getting z smaller than {z} is {z_cdf}')\n",
    "\n",
    "p_value = 1 - z_cdf\n",
    "\n",
    "print(f'Probability of getting such z-value or higher by just chance is {p_value}')"
   ]
  },
  {
   "cell_type": "markdown",
   "metadata": {},
   "source": [
    "## Inferences about the difference between two population means to the case when the two population standard deviations, $\\sigma_{1}$ and $\\sigma_{2}$, are unknown.\n",
    "\n",
    "Note tha most of the time the population variances are not known. Then we can use the sample standard deviations instead of population variances. Then we will use T-distributions in our estimations.\n",
    "\n",
    "__Interval Estimates__\n",
    "\n",
    "$$ \\text{Interval Estimates} = (\\bar{x}_{1} - \\bar{x}_{2}) \\pm t_{\\alpha/2} \\sqrt{\\frac{s_{1}^{2}}{n_{1}} + \\frac{s_{2}^{2}}{n_{2}}} $$\n",
    "\n",
    "\n",
    "In fact, this test is called the Welch test and here the use of T-distribution is an approximation. This test is preferred here because it doesn't assume that population's variance is the same and this test is relatively simpler. The only challenge here is to estimate the degrees of freedom for the T-distribution. But it is known that the formula \n",
    "\n",
    "$$\\text{df}  = \\frac{\\big(\\frac{s_{1}^{2}}{n_{1}} + \\frac{s_{2}^{2}}{n_{2}}\\big)^{2}}{\\frac{1}{n_{1}-1}\\big(\\frac{s_{1}^{2}}{n_{1}}\\big)^{2} + \\frac{1}{n_{2}-1}\\big(\\frac{s_{2}^{2}}{n_{2}}\\big)^{2}}$$\n",
    "\n",
    "Then T-statistics is given by \n",
    "\n",
    "$$   t = \\frac{(\\bar{x}_{1} - \\bar{x}_{2}) - D_{0}}{\\sqrt{\\frac{s_{1}^{2}}{n_{1}} + \\frac{s_{2}^{2}}{n_{2}}}} $$ and the degrees of freedom for $t$ is given as above.\n"
   ]
  },
  {
   "cell_type": "code",
   "execution_count": 24,
   "metadata": {},
   "outputs": [
    {
     "name": "stdout",
     "output_type": "stream",
     "text": [
      "approximate degrees of freedom is 13.95428194084037\n"
     ]
    }
   ],
   "source": [
    "## Let's calculate this for the example above:\n",
    "\n",
    "s1_squared = dc_campus.var(ddof = 1)\n",
    "s2_squared = nyc_campus.var(ddof = 1)\n",
    "\n",
    "sn1 = s1_squared/n1\n",
    "\n",
    "sn2 = s2_squared/n2\n",
    "\n",
    "df_num = (sn1 + sn2)**2\n",
    "\n",
    "df_denom = (sn1)**2 / (n1-1) + (sn2)**2 / (n2-1)\n",
    "\n",
    "df = df_num/df_denom\n",
    "\n",
    "print('approximate degrees of freedom is {}'.format(df))\n"
   ]
  },
  {
   "cell_type": "code",
   "execution_count": 25,
   "metadata": {},
   "outputs": [
    {
     "name": "stdout",
     "output_type": "stream",
     "text": [
      "t-statistics is found as 1.3991277463509277\n",
      "p_value from cdf 0.18360860818639962\n"
     ]
    },
    {
     "data": {
      "text/plain": [
       "Ttest_indResult(statistic=1.3991277463509277, pvalue=0.18360860818639962)"
      ]
     },
     "execution_count": 25,
     "metadata": {},
     "output_type": "execute_result"
    }
   ],
   "source": [
    "## find t-statistics\n",
    "\n",
    "t = (x1_bar - x2_bar)/ np.sqrt(sn1 + sn2)\n",
    "\n",
    "print('t-statistics is found as {}'.format(t))\n",
    "\n",
    "p_value = stats.t.sf(t, df = df)*2\n",
    "\n",
    "print('p_value from cdf {}'.format(p_value))\n",
    "stats.ttest_ind(dc_campus, nyc_campus, equal_var= False)"
   ]
  },
  {
   "cell_type": "code",
   "execution_count": null,
   "metadata": {},
   "outputs": [],
   "source": []
  }
 ],
 "metadata": {
  "kernelspec": {
   "display_name": "Python 3",
   "language": "python",
   "name": "python3"
  },
  "language_info": {
   "codemirror_mode": {
    "name": "ipython",
    "version": 3
   },
   "file_extension": ".py",
   "mimetype": "text/x-python",
   "name": "python",
   "nbconvert_exporter": "python",
   "pygments_lexer": "ipython3",
   "version": "3.7.3"
  }
 },
 "nbformat": 4,
 "nbformat_minor": 2
}
