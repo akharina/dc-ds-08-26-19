{
 "cells": [
  {
   "cell_type": "markdown",
   "metadata": {},
   "source": [
    "#  For loops in lists and dictionaries\n",
    "\n",
    "### Problem 1\n",
    "\n",
    "We are given an array of integers. \n",
    "\n",
    "numbers = [8,5,9,2,4,0]\n",
    "\n",
    "We also have a given target\n",
    "\n",
    "target = 9\n",
    "\n",
    "Please return the index of the target number using a for loop. The target number may repeat several times.\n",
    "\n",
    "\n"
   ]
  },
  {
   "cell_type": "code",
   "execution_count": 1,
   "metadata": {},
   "outputs": [],
   "source": [
    "numbers = [8,5,9,2,4,0]"
   ]
  },
  {
   "cell_type": "code",
   "execution_count": 2,
   "metadata": {},
   "outputs": [],
   "source": [
    "target = 9"
   ]
  },
  {
   "cell_type": "code",
   "execution_count": 3,
   "metadata": {},
   "outputs": [
    {
     "name": "stdout",
     "output_type": "stream",
     "text": [
      "[2]\n"
     ]
    }
   ],
   "source": [
    "target_index = []\n",
    "\n",
    "for x in numbers:\n",
    "    if x == target:\n",
    "        target_index.append(numbers.index(x))\n",
    "\n",
    "print(target_index)"
   ]
  },
  {
   "cell_type": "code",
   "execution_count": 20,
   "metadata": {},
   "outputs": [
    {
     "data": {
      "text/plain": [
       "[2]"
      ]
     },
     "execution_count": 20,
     "metadata": {},
     "output_type": "execute_result"
    }
   ],
   "source": [
    "index = [numbers.index(number) for number in numbers if number == target ]\n",
    "index"
   ]
  },
  {
   "cell_type": "markdown",
   "metadata": {},
   "source": [
    "Expected Output: 2"
   ]
  },
  {
   "cell_type": "markdown",
   "metadata": {},
   "source": [
    "### Problem 2\n",
    "What if we had multiple instances of the same target number in a given list `numbers2`? Could you print out the indexes of all the instances of 9?"
   ]
  },
  {
   "cell_type": "code",
   "execution_count": 4,
   "metadata": {},
   "outputs": [],
   "source": [
    "numbers2 = [3,2,9,5,9,4,0,1,9]"
   ]
  },
  {
   "cell_type": "code",
   "execution_count": 18,
   "metadata": {
    "scrolled": true
   },
   "outputs": [
    {
     "name": "stdout",
     "output_type": "stream",
     "text": [
      "[2, 4, 8]\n"
     ]
    }
   ],
   "source": [
    "target_index2 = []\n",
    "\n",
    "for index, number in enumerate(numbers2): #for index, items in enumerate(numbers2)\n",
    "    if number == target: \n",
    "        target_index2.append(index) #append index of number into target_index2\n",
    "        \n",
    "\n",
    "print(target_index2)"
   ]
  },
  {
   "cell_type": "code",
   "execution_count": 21,
   "metadata": {},
   "outputs": [
    {
     "data": {
      "text/plain": [
       "[2, 4, 8]"
      ]
     },
     "execution_count": 21,
     "metadata": {},
     "output_type": "execute_result"
    }
   ],
   "source": [
    "target_index2 = [index for index, number in enumerate(numbers2) if number == target ]\n",
    "target_index2"
   ]
  },
  {
   "cell_type": "markdown",
   "metadata": {},
   "source": [
    "Expected Output: 2,4,8"
   ]
  },
  {
   "cell_type": "markdown",
   "metadata": {},
   "source": [
    "### Problem 3"
   ]
  },
  {
   "cell_type": "markdown",
   "metadata": {},
   "source": [
    "Now I have a dictionary of key-value pairs that contain colors with a corresponding list of numbers."
   ]
  },
  {
   "cell_type": "code",
   "execution_count": 14,
   "metadata": {},
   "outputs": [],
   "source": [
    "my_dict = {\n",
    "    'blue':[4,8],\n",
    "    'red':[2,1],\n",
    "    'black':[9,4],\n",
    "    'green':[0,3],\n",
    "    'orange':[6,8]\n",
    "}"
   ]
  },
  {
   "cell_type": "code",
   "execution_count": 15,
   "metadata": {
    "scrolled": false
   },
   "outputs": [
    {
     "data": {
      "text/plain": [
       "{'blue': [4, 8],\n",
       " 'red': [2, 1],\n",
       " 'black': [9, 4],\n",
       " 'green': [0, 3],\n",
       " 'orange': [6, 8]}"
      ]
     },
     "execution_count": 15,
     "metadata": {},
     "output_type": "execute_result"
    }
   ],
   "source": [
    "my_dict"
   ]
  },
  {
   "cell_type": "markdown",
   "metadata": {},
   "source": [
    "How could I get rid of the entire key-value pair that contains our target number 9?"
   ]
  },
  {
   "cell_type": "markdown",
   "metadata": {},
   "source": [
    "Expected Output: my_dict = \n",
    "{\n",
    "\n",
    "'blue': [4, 8], \n",
    "\n",
    "'red': [2, 1], \n",
    "\n",
    "'green': [0, 3], \n",
    "\n",
    "'orange': [6, 8]\n",
    "\n",
    "}"
   ]
  },
  {
   "cell_type": "code",
   "execution_count": 17,
   "metadata": {},
   "outputs": [
    {
     "data": {
      "text/plain": [
       "{'blue': [4, 8], 'red': [2, 1], 'green': [0, 3], 'orange': [6, 8]}"
      ]
     },
     "execution_count": 17,
     "metadata": {},
     "output_type": "execute_result"
    }
   ],
   "source": [
    "for i in my_dict:\n",
    "    for j in my_dict[i]:\n",
    "        if j == target:\n",
    "            remove(my_dict[i]) \n",
    "            \n",
    "my_dict"
   ]
  },
  {
   "cell_type": "code",
   "execution_count": null,
   "metadata": {},
   "outputs": [],
   "source": []
  }
 ],
 "metadata": {
  "kernelspec": {
   "display_name": "Python 3",
   "language": "python",
   "name": "python3"
  },
  "language_info": {
   "codemirror_mode": {
    "name": "ipython",
    "version": 3
   },
   "file_extension": ".py",
   "mimetype": "text/x-python",
   "name": "python",
   "nbconvert_exporter": "python",
   "pygments_lexer": "ipython3",
   "version": "3.7.3"
  }
 },
 "nbformat": 4,
 "nbformat_minor": 2
}
